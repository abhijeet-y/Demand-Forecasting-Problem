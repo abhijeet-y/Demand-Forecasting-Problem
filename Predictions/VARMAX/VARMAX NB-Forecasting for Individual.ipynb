{
 "cells": [
  {
   "cell_type": "markdown",
   "id": "317ee1ea",
   "metadata": {},
   "source": [
    "# Imports"
   ]
  },
  {
   "cell_type": "code",
   "execution_count": 1,
   "id": "252279b2",
   "metadata": {},
   "outputs": [],
   "source": [
    "import pandas as pd\n",
    "import matplotlib.pyplot as plt\n",
    "import seaborn as sns\n",
    "import numpy as np\n",
    "from matplotlib import style\n",
    "import math"
   ]
  },
  {
   "cell_type": "code",
   "execution_count": 2,
   "id": "d2d7445e",
   "metadata": {},
   "outputs": [],
   "source": [
    "from statsmodels.graphics.tsaplots import plot_acf, plot_pacf, month_plot, quarter_plot\n",
    "from statsmodels.stats.stattools import durbin_watson\n",
    "from statsmodels.tsa.seasonal import seasonal_decompose\n",
    "from statsmodels.tsa.stattools import adfuller\n",
    "from statsmodels.tsa.arima_model import ARIMA\n",
    "from statsmodels.tsa.stattools import kpss\n",
    "import pmdarima as pm"
   ]
  },
  {
   "cell_type": "code",
   "execution_count": 3,
   "id": "01e61556",
   "metadata": {},
   "outputs": [],
   "source": [
    "from sklearn.metrics import mean_squared_error\n",
    "from sklearn.metrics import mean_absolute_percentage_error"
   ]
  },
  {
   "cell_type": "code",
   "execution_count": 4,
   "id": "5bbd5149",
   "metadata": {},
   "outputs": [],
   "source": [
    "import warnings\n",
    "warnings.filterwarnings('ignore')\n",
    "warnings.simplefilter(action='ignore', category=FutureWarning)\n",
    "#warnings.simplefilter(action='ignore', category=InterpolationWarning)"
   ]
  },
  {
   "cell_type": "code",
   "execution_count": 5,
   "id": "3d16789f",
   "metadata": {},
   "outputs": [],
   "source": [
    "pd.set_option('display.max_rows', 400)\n",
    "pd.set_option('display.float_format', lambda x: '%.3f' % x)"
   ]
  },
  {
   "cell_type": "code",
   "execution_count": 6,
   "id": "8e2aba59",
   "metadata": {},
   "outputs": [],
   "source": [
    "plt.style.use('seaborn-v0_8')"
   ]
  },
  {
   "cell_type": "markdown",
   "id": "62af68b9",
   "metadata": {},
   "source": [
    "# Helper Functions"
   ]
  },
  {
   "cell_type": "code",
   "execution_count": 7,
   "id": "b7fba24a",
   "metadata": {},
   "outputs": [],
   "source": [
    "def compare_item(item_code_1,item_code_2):\n",
    "    '''This functions shows the descriptive information about the two comparing items.'''\n",
    "    \n",
    "    for c in o_col:\n",
    "        if c not in ['PER_TAG','date']:\n",
    "            print(c+':\\t\\t',df[df['ITEM_CODE']==item_code_1][c].unique(),df[df['ITEM_CODE']==item_code_2][c].unique())\n",
    "            "
   ]
  },
  {
   "cell_type": "code",
   "execution_count": 8,
   "id": "140bc0b5",
   "metadata": {},
   "outputs": [],
   "source": [
    "def plot_timeseries(item,date,retailer):\n",
    "    '''Plots trendline for given item and mentioned retailer.'''\n",
    "    \n",
    "    y=df[(df['ITEM_CODE']==item)&(df['RETAILER']==retailer)]['VOLUME'].values\n",
    "    x=date\n",
    "    \n",
    "    fig, ax = plt.subplots(figsize=(20,10))\n",
    "    ax.plot(x,y,'o-',color='green')\n",
    "    plt.xticks(rotation=90,fontsize=14)\n",
    "    plt.xlabel('Dates',fontsize=20)\n",
    "    plt.yticks(rotation=0,fontsize=14)\n",
    "    plt.ylabel('Volume',fontsize=20)\n",
    "    ax.xaxis_date()     # interpret the x-axis values as dates\n",
    "    fig.autofmt_xdate() # make space for and rotate the x-axis tick labels\n",
    "    plt.grid(True)\n",
    "    plt.title('Volume across the time for {}'.format(item),fontsize=20)\n",
    "    plt.show()"
   ]
  },
  {
   "cell_type": "code",
   "execution_count": 9,
   "id": "c9fdebcc",
   "metadata": {},
   "outputs": [],
   "source": [
    "def plot_corr(segment,retailer,annot=True):\n",
    "    '''This functions plots the correlation heatmap for the mentioned segment and retailer.'''\n",
    "    \n",
    "    dummy={}\n",
    "    for item in df[(df['RETAILER']==retailer)&(df['SEGMENT']==segment)]['ITEM_CODE'].unique():\n",
    "        dummy[item]=list(df[(df['ITEM_CODE']==item)&(df['RETAILER']==retailer)&(df['SEGMENT']==segment)]['VOLUME'].values)\n",
    "    dummy=pd.DataFrame(dummy)\n",
    "    plt.figure(figsize=(15,12))\n",
    "    sns.heatmap(dummy.corr(),annot=annot)\n",
    "    plt.show()\n",
    "    \n",
    "def get_corr(df,segment,retailer):\n",
    "    '''This functions shows the correlation coefficient values for the mentioned segment and retailer.'''\n",
    "    \n",
    "    dummy={}\n",
    "    for item in df[(df['RETAILER']==retailer)&(df['SEGMENT']==segment)]['ITEM_CODE'].unique():\n",
    "        dummy[item]=list(df[(df['ITEM_CODE']==item)&(df['RETAILER']==retailer)&(df['SEGMENT']==segment)]['VOLUME'].values)\n",
    "    dummy=pd.DataFrame(dummy)\n",
    "    \n",
    "    return dummy.corr()"
   ]
  },
  {
   "cell_type": "code",
   "execution_count": 10,
   "id": "6413d985",
   "metadata": {},
   "outputs": [],
   "source": [
    "def get_highest(correlation_dataframe,correlation_value):\n",
    "    '''This function returns the multi indexed dataframe showing items having highest correlation value'''\n",
    "    \n",
    "    New=pd.DataFrame()\n",
    "    if correlation_dataframe.shape[1]>1:\n",
    "        for col in correlation_dataframe.columns:\n",
    "            item_1=[col]*correlation_dataframe[(correlation_dataframe[col].abs()>=correlation_value)&(correlation_dataframe[col]!=1)][[col]].shape[0]\n",
    "            item_2=list(correlation_dataframe[(correlation_dataframe[col].abs()>=correlation_value)&(correlation_dataframe[col]!=1)][[col]].index)\n",
    "            item_1=[int(x) if type(x)==int else str(x) for x in item_1]\n",
    "            item_2=[int(x) if type(x)==int else str(x) for x in item_2]\n",
    "            corr=list(correlation_dataframe[(correlation_dataframe[col].abs()>=correlation_value)&(correlation_dataframe[col]!=1)][[col]].values)\n",
    "            T=pd.DataFrame({'Item_1':item_1,\n",
    "                           'Item_2':item_2,\n",
    "                           'Corr':corr})\n",
    "            T['Corr']=T['Corr'].apply(lambda x:x[0])\n",
    "            New=pd.concat([New,T],ignore_index=True)\n",
    "    else:\n",
    "        T=pd.DataFrame({'Item_1':correlation_dataframe.index,\n",
    "                           'Item_2':correlation_dataframe.columns,\n",
    "                           'Corr':correlation_dataframe.iloc[0,0]})\n",
    "        #T['Corr']=T['Corr'].apply(lambda x:x[0])\n",
    "        New=pd.concat([New,T],ignore_index=True)\n",
    "    \n",
    "    New.set_index([\"Item_1\", \"Item_2\"], inplace=True,append=False, drop=True)\n",
    "    return New"
   ]
  },
  {
   "cell_type": "code",
   "execution_count": 11,
   "id": "7f1cb2ee",
   "metadata": {},
   "outputs": [],
   "source": [
    "def segment_wise_correlation(dataframe,retailer,corr_value):\n",
    "    '''This functions returns the multi indexed dataframe containing items with high correlation value for \n",
    "    all the segments of a dataframe.'''\n",
    "    \n",
    "    \n",
    "    T=pd.DataFrame()\n",
    "    for seg in dataframe[dataframe['RETAILER']==retailer]['SEGMENT'].unique():\n",
    "        New=get_highest(get_corr(seg,retailer),corr_value)\n",
    "        New.reset_index(inplace=True)\n",
    "        New['SEGMENT']=[seg]*New.shape[0]\n",
    "        T=pd.concat([T,New],ignore_index=True)\n",
    "    T.set_index([\"SEGMENT\",\"Item_1\", \"Item_2\"], inplace=True,append=False, drop=True)\n",
    "    return T"
   ]
  },
  {
   "cell_type": "code",
   "execution_count": 12,
   "id": "071c4bd5",
   "metadata": {},
   "outputs": [],
   "source": [
    "def correlated_items_dataframe(df,item,segment,retailer,corr_value):\n",
    "    '''This function returns dataframe containing Volume Sales of given correlated items.'''\n",
    "    \n",
    "    item_list=[int(x) for x in get_highest(get_corr(df,segment,retailer),corr_value).loc[item,:].index]\n",
    "    N=pd.DataFrame()\n",
    "    T=df[(df['RETAILER']==retailer)&(df['ITEM_CODE']==item)][['VOLUME']]\n",
    "    T.reset_index(inplace=True,drop=True)\n",
    "    T=T.rename(columns={T.columns[0]: item})\n",
    "    if len(item_list)>1:\n",
    "        for item in item_list:\n",
    "            N=df[(df['RETAILER']==retailer)&(df['ITEM_CODE']==item)][['VOLUME']]\n",
    "            N.reset_index(inplace=True,drop=True)\n",
    "            N=N.rename(columns={N.columns[0]: item})\n",
    "            T=pd.concat([T,N],axis=1)\n",
    "    T.set_index(df[(df['RETAILER']==retailer)&(df['ITEM_CODE']==item)]['date'].values,inplace=True)\n",
    "    \n",
    "    return T"
   ]
  },
  {
   "cell_type": "code",
   "execution_count": 13,
   "id": "2e8ffa77",
   "metadata": {},
   "outputs": [],
   "source": [
    "def plot_correlated_trendlines(T,date):\n",
    "    '''This function plots trendlines of given correlated items.'''\n",
    "    \n",
    "    item2_list=[int(col) for col in T.columns[1:-3]]\n",
    "    y1=T[T.columns[0]]\n",
    "    x=date\n",
    "    \n",
    "    fig, ax = plt.subplots(figsize=(20,10))\n",
    "    ax.plot(x,y1,'o-')\n",
    "    leg=[T.columns[0]]\n",
    "    \n",
    "    for y in item2_list:\n",
    "        ax.plot(x,T[[y]].values,'o-')\n",
    "        leg.append(y)\n",
    "    plt.xticks(rotation=90,fontsize=14)\n",
    "    plt.xlabel('Dates',fontsize=20)\n",
    "    plt.yticks(rotation=0,fontsize=14)\n",
    "    plt.ylabel('Volume',fontsize=20)\n",
    "    ax.xaxis_date()     # interpret the x-axis values as dates\n",
    "    fig.autofmt_xdate() # make space for and rotate the x-axis tick labels\n",
    "    plt.grid(True)\n",
    "    plt.title('Volume Trend across Time ',fontsize=20)\n",
    "    plt.legend(leg)\n",
    "    plt.show()"
   ]
  },
  {
   "cell_type": "code",
   "execution_count": 14,
   "id": "5e988352",
   "metadata": {},
   "outputs": [],
   "source": [
    "def plot_correlated_trendlines_separately(dataframe):\n",
    "    '''This function plots trendlines of highly correlated items separately.'''\n",
    "    \n",
    "    fig, axes = plt.subplots(nrows=dataframe.shape[1], ncols=1, dpi=120, figsize=(10,6))\n",
    "    for i, ax in enumerate(axes.flatten()):\n",
    "        y=dataframe[dataframe.columns[i]]\n",
    "        x=date\n",
    "        if i==0:\n",
    "            ax.plot(x,y,'.-',color='red' ,linewidth=0.4)\n",
    "        else:\n",
    "            ax.plot(x,y,'.-' ,linewidth=0.4)\n",
    "        ax.set_title(dataframe.columns[i])\n",
    "        plt.xticks(rotation=90,fontsize=14)\n",
    "        #plt.xlabel('Dates',fontsize=20)\n",
    "        plt.yticks(rotation=0,fontsize=14)\n",
    "        #plt.ylabel(str(item),fontsize=14)\n",
    "        ax.xaxis_date()     # interpret the x-axis values as dates\n",
    "        fig.autofmt_xdate() # make space for and rotate the x-axis tick labels\n",
    "        #plt.grid(True)\n",
    "        #plt.title('Volume Sales for {}'.format(item),fontsize=20)\n",
    "        #ax.xaxis.set_ticks_position(None)\n",
    "        #ax.yaxis.set_ticks_position(None)\n",
    "        #ax.spines['Top'].set_alpha(0)\n",
    "        ax.tick_params(labelsize=6)\n",
    "    plt.tight_layout();"
   ]
  },
  {
   "cell_type": "code",
   "execution_count": 15,
   "id": "243b26bb",
   "metadata": {},
   "outputs": [],
   "source": [
    "def ADF_statt(x,ALPHA):\n",
    "    '''\n",
    "       x: Time Series;\n",
    "       ALPHA: Significance Level;\n",
    "       \n",
    "       Null Hypothesis: The series contains a unit root, it is not stationary.\n",
    "       Alternative Hypothesis: There is no unit root.\n",
    "       \n",
    "       Low p-values are preferable. If the test returns a p-value BELOW the chosen significance level (e.g.0.05),\n",
    "       we reject the null and conclude that the series does not contain a unit root.It appears to be stationary.\n",
    "       '''\n",
    "    adf_test = adfuller(x, autolag=\"aic\")\n",
    "    t_stat, p_value, _, _, _, _  = adf_test\n",
    "    conclusion = \"non-stationary (unit root)\" if p_value > ALPHA else \"stationary\"\n",
    "    res_dict = {\"ADF statistic\":t_stat, \"p-value\":p_value, \"should we difference?\": (p_value > ALPHA), \"conclusion\": conclusion}\n",
    "    return res_dict"
   ]
  },
  {
   "cell_type": "code",
   "execution_count": 16,
   "id": "d9f531e3",
   "metadata": {},
   "outputs": [],
   "source": [
    "def KPSS_statt(x,ALPHA):\n",
    "    '''\n",
    "       x: Time Series;\n",
    "       ALPHA: Significance Level;\n",
    "       \n",
    "       Null Hypothesis: The series is stationary around a deterministic trend (trend-stationary)\n",
    "       Alternative Hypothesis: The series has a unit root. It is non-stationary.\n",
    "       \n",
    "       High p-values are preferable. If the test returns a p-value ABOVE the chosen significance level (e.g.0.05),\n",
    "       we conclude that the series appears to be atleast trend stationary.\n",
    "       \n",
    "    '''\n",
    "    kpss_test = kpss(x)\n",
    "    t_stat, p_value, _, critical_values  = kpss_test\n",
    "    conclusion = \"stationary\" if p_value > ALPHA else \"not stationary\"\n",
    "    res_dict = {\"KPSS statistic\":t_stat, \"p-value\":p_value, \"should we difference?\": (p_value < ALPHA), \"conclusion\": conclusion}\n",
    "    return res_dict"
   ]
  },
  {
   "cell_type": "code",
   "execution_count": 17,
   "id": "160e2955",
   "metadata": {},
   "outputs": [],
   "source": [
    "def plot_stationarity(time_series, lags,model):\n",
    "    \n",
    "    y=time_series\n",
    "    # decompose the time series into trend, seasonality and residuals\n",
    "    decomp = seasonal_decompose(time_series, \n",
    "                                   model=model, \n",
    "                                   period=lags)\n",
    "    # decomp.plot()\n",
    "    # plt.show()\n",
    "    trend = decomp.trend\n",
    "    seas = decomp.seasonal\n",
    "   \n",
    "    fig = plt.figure()\n",
    "    fig.set_figheight(10)\n",
    "    fig.set_figwidth(18)\n",
    "    \n",
    "    ax1 = plt.subplot2grid((3, 3), (0, 0), colspan=2)\n",
    "    ax2 = plt.subplot2grid((3, 3), (1, 0))\n",
    "    ax3 = plt.subplot2grid((3, 3), (1, 1))\n",
    "    #ax4 = plt.subplot2grid((3, 3), (1, 1))\n",
    "    ax5 = plt.subplot2grid((3, 3), (2, 0))\n",
    "    ax6 = plt.subplot2grid((3, 3), (2, 1))\n",
    "    y.plot(ax=ax1)\n",
    "    #ax1.set_title(\"Rolling 12-Month Temperature\")\n",
    "    ax1.set_title(y.name)\n",
    "    trend.plot(ax=ax2)\n",
    "    ax2.set_title(\"Trend Component\")\n",
    "    seas.plot(ax=ax3)\n",
    "    ax3.set_title(\"Seasonal Component\")\n",
    "\n",
    "    # resid.plot(ax=ax4)\n",
    "    # ax4.set_title(\"Residual Component\")\n",
    "    \n",
    "    plot_acf(y, lags=lags, zero=False, ax=ax5);\n",
    "    plot_pacf(y, lags=lags, zero=False, ax=ax6);\n",
    "    plt.tight_layout()"
   ]
  },
  {
   "cell_type": "code",
   "execution_count": 18,
   "id": "9017ab71",
   "metadata": {},
   "outputs": [],
   "source": [
    "def get_segment(df,segment,retailer,date):\n",
    "    try:\n",
    "        item=df[(df['SEGMENT']==segment)&(df['RETAILER']==retailer)]['ITEM_CODE'].unique()[0]\n",
    "    except:\n",
    "        item=df[(df['SEGMENT']==segment)&(df['RETAILER']==retailer)]['ITEM_CODE'].unique()\n",
    "    T=correlated_items_dataframe(df,item,segment,retailer,0)\n",
    "\n",
    "        #T.head()\n",
    "        #plot_correlated_trendlines(T,date)\n",
    "        #plot_correlated_trendlines_separately(T)\n",
    "        #print(\"-\"*30)\n",
    "    T[segment]=T.apply(np.sum,axis=1)\n",
    "    T['date']=pd.to_datetime(date.values)\n",
    "    T['MONTH']=T['date'].apply(lambda x:x.month)\n",
    "    T['YEAR']=T['date'].apply(lambda x:x.year)\n",
    "    \n",
    "    return T"
   ]
  },
  {
   "cell_type": "code",
   "execution_count": 19,
   "id": "2d0f5f6d",
   "metadata": {},
   "outputs": [],
   "source": [
    "def get_items_from_segment(item,segment,retailer,date,corr_value=0.8):\n",
    "    T=correlated_items_dataframe(item,segment,retailer,corr_value)\n",
    "\n",
    "        #T.head()\n",
    "        #plot_correlated_trendlines(T,date)\n",
    "        #plot_correlated_trendlines_separately(T)\n",
    "        #print(\"-\"*30)\n",
    "    #T[segment]=T.apply(np.sum,axis=1)\n",
    "    T['date']=pd.to_datetime(date.values)\n",
    "    T['MONTH']=T['date'].apply(lambda x:x.month)\n",
    "    T['YEAR']=T['date'].apply(lambda x:x.year)\n",
    "    \n",
    "    return T"
   ]
  },
  {
   "cell_type": "code",
   "execution_count": 20,
   "id": "2415857f",
   "metadata": {},
   "outputs": [],
   "source": [
    "def plot_timeseries_segment(dataframe,segment):\n",
    "    x=get_dates(dataframe)\n",
    "    fig, ax = plt.subplots(figsize=(20,10))\n",
    "    ax.plot(x,dataframe[segment].values,'o-',color='blue',linewidth=2.15)\n",
    "    plt.xticks(rotation=90,fontsize=14)\n",
    "    plt.xlabel('Dates',fontsize=20)\n",
    "    plt.yticks(rotation=0,fontsize=14)\n",
    "    plt.ylabel('Volume',fontsize=20)\n",
    "    ax.xaxis_date()     # interpret the x-axis values as dates\n",
    "    fig.autofmt_xdate() # make space for and rotate the x-axis tick labels\n",
    "    plt.grid(True)\n",
    "    plt.title('{} volume across the time'.format(segment),fontsize=20)\n",
    "    plt.show()"
   ]
  },
  {
   "cell_type": "code",
   "execution_count": 21,
   "id": "df846a87",
   "metadata": {},
   "outputs": [],
   "source": [
    "def get_dates(dataframe):\n",
    "    date=dataframe\n",
    "    date.reset_index(inplace=True,drop=True)\n",
    "    date=pd.to_datetime(date['date'])\n",
    "    return date"
   ]
  },
  {
   "cell_type": "code",
   "execution_count": 22,
   "id": "06d52fc6",
   "metadata": {},
   "outputs": [],
   "source": [
    "def check_stationarity(dataframe):\n",
    "    N=pd.DataFrame()\n",
    "    for item in dataframe.columns[:-3]:\n",
    "        resADF = ADF_statt(dataframe[item],0.05)\n",
    "        resKPSS = KPSS_statt(dataframe[item],0.05)\n",
    "        df_tests=pd.DataFrame({'Item':[str(item)]*4,\n",
    "                               'Results':['Test Statistics','p-value','Differencing Required','Conclusion'],\n",
    "                              'ADF':resADF.values(),\n",
    "                              'KPSS':resKPSS.values()})\n",
    "        N=pd.concat([N,df_tests])\n",
    "    N.set_index(['Item','Results'],inplace=True,drop=True)\n",
    "    \n",
    "    return N"
   ]
  },
  {
   "cell_type": "code",
   "execution_count": 23,
   "id": "392db529",
   "metadata": {},
   "outputs": [],
   "source": [
    "def check_stationarity3(dataframe):\n",
    "    N=pd.DataFrame()\n",
    "    for item in dataframe.columns:\n",
    "        resADF = ADF_statt(dataframe[item],0.05)\n",
    "        resKPSS = KPSS_statt(dataframe[item],0.05)\n",
    "        df_tests=pd.DataFrame({'Item':[str(item)]*4,\n",
    "                               'Results':['Test Statistics','p-value','Differencing Required','Conclusion'],\n",
    "                              'ADF':resADF.values(),\n",
    "                              'KPSS':resKPSS.values()})\n",
    "        N=pd.concat([N,df_tests])\n",
    "    N.set_index(['Item','Results'],inplace=True,drop=True)\n",
    "    \n",
    "    return N"
   ]
  },
  {
   "cell_type": "code",
   "execution_count": 24,
   "id": "b7bdac78",
   "metadata": {},
   "outputs": [],
   "source": [
    "def check_stationarity2(dataframe):\n",
    "    N=pd.DataFrame()\n",
    "    for item in dataframe.columns:\n",
    "        resADF = ADF_statt(dataframe[item],0.05)\n",
    "        resKPSS = KPSS_statt(dataframe[item],0.05)\n",
    "        df_tests=pd.DataFrame({'Item':[str(item)]*4,\n",
    "                               'Results':['Test Statistics','p-value','Differencing Required','Conclusion'],\n",
    "                              'ADF':resADF.values(),\n",
    "                              'KPSS':resKPSS.values()})\n",
    "        N=pd.concat([N,df_tests])\n",
    "    \n",
    "    \n",
    "    return N"
   ]
  },
  {
   "cell_type": "code",
   "execution_count": 25,
   "id": "9fd7c7f3",
   "metadata": {},
   "outputs": [],
   "source": [
    "def inverse_differencing(item,n_diff,n_sdiff):\n",
    "    n_sdiff=52*n_sdiff\n",
    "    k=pd.concat([other_car[[item]],stat1[[item]]],axis=1,ignore_index=False)\n",
    "    k.columns=['Actual','Differenced']\n",
    "    k['D']=(k['Actual'].diff(n_diff)-k['Actual'].diff(n_diff).shift(n_sdiff))\n",
    "    k['Inversed']=k['D']+k['Actual'].diff(n_diff).shift(n_sdiff)\n",
    "    k['Inversed'].iloc[:n_sdiff]=k['Actual'].diff(n_diff).iloc[:n_sdiff]\n",
    "    k['Inversed'].iloc[:n_diff]=k['Actual'].iloc[:n_diff]\n",
    "    k['Inversed'].iloc[n_diff:]=k['Inversed'].iloc[n_diff:]+k['Actual'].shift(n_diff).iloc[n_diff:]\n",
    "    k.drop('D',inplace=True,axis=1)\n",
    "    \n",
    "    return k"
   ]
  },
  {
   "cell_type": "code",
   "execution_count": 26,
   "id": "3107b2d7",
   "metadata": {},
   "outputs": [],
   "source": [
    "def MAPE(y_true, y_pred): \n",
    "    y_true, y_pred = np.array(y_true), np.array(y_pred)\n",
    "    return np.mean(np.abs((y_true - y_pred) / y_true)) * 100\n",
    "\n",
    "def WAPE(y_true, y_pred, weighting = 'non-zero-flag'):\n",
    "    w = {'non-zero-flag':np.where(y_true == 0, 0, 1), \n",
    "         'y':y_true,\n",
    "        }.get(weighting)\n",
    "    return mean_absolute_percentage_error(y_true, y_pred, w)\n",
    "\n",
    "def TAPE(y_true, y_pred):\n",
    "    total = np.sum(np.abs(y_true))\n",
    "    pe = (y_pred - y_true)/total\n",
    "    return np.sum(np.abs(pe)) if total > 0 else np.inf\n",
    "\n",
    "def adj_PE(y_true, y_pred):\n",
    "    return (y_pred - y_true)/(y_true + 1)\n",
    "\n",
    "def PE(y_true, y_pred):\n",
    "    return y_pred/y_true - 1"
   ]
  },
  {
   "cell_type": "markdown",
   "id": "fcdb6fe7",
   "metadata": {},
   "source": [
    "# Reading the data & Classifying Features"
   ]
  },
  {
   "cell_type": "code",
   "execution_count": 27,
   "id": "96a666f3",
   "metadata": {},
   "outputs": [],
   "source": [
    "df=pd.read_csv(r'C:\\Users\\abhij\\Desktop\\CV_Project\\Timeseries Analysis\\DF_dataframe_final.csv')"
   ]
  },
  {
   "cell_type": "markdown",
   "id": "fee177dc",
   "metadata": {},
   "source": [
    "##### Creating a dictionary containing description about the particular item"
   ]
  },
  {
   "cell_type": "code",
   "execution_count": 28,
   "id": "d6bc8792",
   "metadata": {},
   "outputs": [],
   "source": [
    "item_detail={}\n",
    "for man in df['MANUFACTURER'].unique():\n",
    "    for item in df[df['MANUFACTURER']==man]['ITEM_CODE'].unique():\n",
    "        item_detail[item]=df[df['ITEM_CODE']==item]['ITEM_DESCRIPTION'].unique()\n",
    "        #print(item,df[df['ITEM_CODE']==item]['ITEM_DESCRIPTION'].unique())"
   ]
  },
  {
   "cell_type": "code",
   "execution_count": 29,
   "id": "721c50da",
   "metadata": {},
   "outputs": [
    {
     "data": {
      "text/plain": [
       "array(['Refresh Your Car Dual Scent Paper New Car And Cool Breeze 2s'],\n",
       "      dtype=object)"
      ]
     },
     "execution_count": 29,
     "metadata": {},
     "output_type": "execute_result"
    }
   ],
   "source": [
    "item_detail[12844090321]"
   ]
  },
  {
   "cell_type": "markdown",
   "id": "fd3f02c9",
   "metadata": {},
   "source": [
    "##### Creating a list containing names for all the object type columns"
   ]
  },
  {
   "cell_type": "code",
   "execution_count": 30,
   "id": "319ac1ac",
   "metadata": {},
   "outputs": [],
   "source": [
    "o_col=[]\n",
    "for c in df.columns.to_list():\n",
    "    if df[c].dtype=='O':\n",
    "        o_col.append(c)"
   ]
  },
  {
   "cell_type": "markdown",
   "id": "bf61f1e5",
   "metadata": {},
   "source": [
    "##### Creating a list containing names for all the integer type columns"
   ]
  },
  {
   "cell_type": "code",
   "execution_count": 31,
   "id": "61fb9e90",
   "metadata": {},
   "outputs": [],
   "source": [
    "i_col=[]\n",
    "for c in df.columns.to_list():\n",
    "    if df[c].dtype=='int':\n",
    "        i_col.append(c)"
   ]
  },
  {
   "cell_type": "code",
   "execution_count": 32,
   "id": "c71e25f6",
   "metadata": {},
   "outputs": [
    {
     "name": "stdout",
     "output_type": "stream",
     "text": [
      "[]\n"
     ]
    }
   ],
   "source": [
    "print(i_col,sep=' ')"
   ]
  },
  {
   "cell_type": "markdown",
   "id": "3feecfec",
   "metadata": {},
   "source": [
    "##### Creating a list containing names for all the float type columns"
   ]
  },
  {
   "cell_type": "code",
   "execution_count": 33,
   "id": "4e2932a4",
   "metadata": {},
   "outputs": [],
   "source": [
    "f_col=[]\n",
    "for c in df.columns.to_list():\n",
    "    if df[c].dtype=='float':\n",
    "        f_col.append(c)"
   ]
  },
  {
   "cell_type": "markdown",
   "id": "2054fbdf",
   "metadata": {},
   "source": [
    "##### Creating a list containing names of all the columns to be removed which are mostly containg ZEROs as values"
   ]
  },
  {
   "cell_type": "code",
   "execution_count": 34,
   "id": "1fd6dbfd",
   "metadata": {},
   "outputs": [],
   "source": [
    "rem_f_col=[]\n",
    "for i in f_col[:-117]:\n",
    "    if df[i].describe()['std']==0 and df[i].describe()['mean']==0:\n",
    "        rem_f_col.append(i)\n",
    "        "
   ]
  },
  {
   "cell_type": "markdown",
   "id": "1cb524c5",
   "metadata": {},
   "source": [
    "##### Creating a list containing names for all the columns which contains SINE values"
   ]
  },
  {
   "cell_type": "code",
   "execution_count": 35,
   "id": "4cb88964",
   "metadata": {},
   "outputs": [],
   "source": [
    "sine_col=f_col[-117:]"
   ]
  },
  {
   "cell_type": "markdown",
   "id": "8b3a7274",
   "metadata": {},
   "source": [
    "##### Removing all the selected columns"
   ]
  },
  {
   "cell_type": "code",
   "execution_count": 36,
   "id": "c6f9a711",
   "metadata": {},
   "outputs": [],
   "source": [
    "f_col=[ele for ele in f_col if ele not in rem_f_col+sine_col]"
   ]
  },
  {
   "cell_type": "markdown",
   "id": "a61fa4b2",
   "metadata": {},
   "source": [
    "##### Creating a list containing names of all the columns to be removed which are have more than 95% as ZERO values"
   ]
  },
  {
   "cell_type": "code",
   "execution_count": 37,
   "id": "b9f19bec",
   "metadata": {},
   "outputs": [],
   "source": [
    "zero_col=[]\n",
    "for col in f_col:\n",
    "    if df.shape[0]*0.95<=df[df[col]==0].shape[0]:\n",
    "        zero_col.append(col)\n",
    "        #print(col,df[df[col]==0].shape[0])"
   ]
  },
  {
   "cell_type": "markdown",
   "id": "37435749",
   "metadata": {},
   "source": [
    "##### Removing all the selected columns"
   ]
  },
  {
   "cell_type": "code",
   "execution_count": 38,
   "id": "d68d63c0",
   "metadata": {},
   "outputs": [],
   "source": [
    "f_col=[ele for ele in f_col if ele not in zero_col]"
   ]
  },
  {
   "cell_type": "code",
   "execution_count": 39,
   "id": "de4feb3f",
   "metadata": {},
   "outputs": [],
   "source": [
    "o_col=[ele for ele in o_col if ele not in ['WEEK_END_DATE', 'WEEK_END_DATE_New']]"
   ]
  },
  {
   "cell_type": "markdown",
   "id": "7c93a1b5",
   "metadata": {},
   "source": [
    "##### Date Timeline"
   ]
  },
  {
   "cell_type": "code",
   "execution_count": 40,
   "id": "446744ab",
   "metadata": {},
   "outputs": [],
   "source": [
    "# We can take any SKU and obtain its index to get date timeline.\n",
    "date=get_dates(df[(df['ITEM_CODE']==9300701525033)&(df['RETAILER']=='Woolworths')][['date']])"
   ]
  },
  {
   "cell_type": "markdown",
   "id": "1a22cafd",
   "metadata": {},
   "source": [
    "---------\n",
    "# Dealing only with ONGOING SKUs:\n",
    "\n",
    "- Reading the data containnig information about ongoing SKUs.\n",
    "- Converting and extracting the dataset of ongoing items.\n",
    "- Running Stationarity Test.\n",
    "- Implementing the suggestion from Test Results.\n",
    "- Validating Stationarity by running stationarity test again.\n",
    "- Splitting the dataset into Train and Test (for both, stationary and original timeseries)\n"
   ]
  },
  {
   "cell_type": "code",
   "execution_count": 41,
   "id": "ceeaa38a",
   "metadata": {},
   "outputs": [],
   "source": [
    "# Reading the dataset\n",
    "ongoing=pd.read_csv(r'C:\\Users\\abhij\\Desktop\\CV_Project\\Timeseries Analysis\\EDA\\Classified TimeSeries\\Ongoing.csv',index_col='Unnamed: 0')"
   ]
  },
  {
   "cell_type": "code",
   "execution_count": 42,
   "id": "65d4de13",
   "metadata": {},
   "outputs": [
    {
     "data": {
      "text/html": [
       "<div>\n",
       "<style scoped>\n",
       "    .dataframe tbody tr th:only-of-type {\n",
       "        vertical-align: middle;\n",
       "    }\n",
       "\n",
       "    .dataframe tbody tr th {\n",
       "        vertical-align: top;\n",
       "    }\n",
       "\n",
       "    .dataframe thead th {\n",
       "        text-align: right;\n",
       "    }\n",
       "</style>\n",
       "<table border=\"1\" class=\"dataframe\">\n",
       "  <thead>\n",
       "    <tr style=\"text-align: right;\">\n",
       "      <th></th>\n",
       "      <th>RETAILER</th>\n",
       "      <th>SEGMENT</th>\n",
       "      <th>ITEM</th>\n",
       "      <th>STATUS</th>\n",
       "    </tr>\n",
       "  </thead>\n",
       "  <tbody>\n",
       "    <tr>\n",
       "      <th>0</th>\n",
       "      <td>Woolworths</td>\n",
       "      <td>Other Car</td>\n",
       "      <td>12844067194</td>\n",
       "      <td>Ongoing</td>\n",
       "    </tr>\n",
       "    <tr>\n",
       "      <th>1</th>\n",
       "      <td>Woolworths</td>\n",
       "      <td>Other Car</td>\n",
       "      <td>12844082043</td>\n",
       "      <td>Ongoing</td>\n",
       "    </tr>\n",
       "    <tr>\n",
       "      <th>4</th>\n",
       "      <td>Woolworths</td>\n",
       "      <td>Other Car</td>\n",
       "      <td>12844090314</td>\n",
       "      <td>Ongoing</td>\n",
       "    </tr>\n",
       "    <tr>\n",
       "      <th>5</th>\n",
       "      <td>Woolworths</td>\n",
       "      <td>Other Car</td>\n",
       "      <td>12844090321</td>\n",
       "      <td>Ongoing</td>\n",
       "    </tr>\n",
       "    <tr>\n",
       "      <th>7</th>\n",
       "      <td>Woolworths</td>\n",
       "      <td>Other Car</td>\n",
       "      <td>12844092035</td>\n",
       "      <td>Ongoing</td>\n",
       "    </tr>\n",
       "  </tbody>\n",
       "</table>\n",
       "</div>"
      ],
      "text/plain": [
       "     RETAILER    SEGMENT         ITEM   STATUS\n",
       "0  Woolworths  Other Car  12844067194  Ongoing\n",
       "1  Woolworths  Other Car  12844082043  Ongoing\n",
       "4  Woolworths  Other Car  12844090314  Ongoing\n",
       "5  Woolworths  Other Car  12844090321  Ongoing\n",
       "7  Woolworths  Other Car  12844092035  Ongoing"
      ]
     },
     "execution_count": 42,
     "metadata": {},
     "output_type": "execute_result"
    }
   ],
   "source": [
    "ongoing.head()"
   ]
  },
  {
   "cell_type": "code",
   "execution_count": 43,
   "id": "ae8e7692",
   "metadata": {},
   "outputs": [],
   "source": [
    "# Extracting data of ongoing items from original large Dataframe\n",
    "D=pd.DataFrame()\n",
    "for i in ongoing.index:\n",
    "    D=pd.concat([D,df[(df['ITEM_CODE']==ongoing['ITEM'].loc[i])&(df['RETAILER']==ongoing['RETAILER'].loc[i])]],\n",
    "                axis=0,ignore_index=False)\n",
    "                 "
   ]
  },
  {
   "cell_type": "code",
   "execution_count": 44,
   "id": "b9263f0b",
   "metadata": {},
   "outputs": [],
   "source": [
    "df1=D.copy()"
   ]
  },
  {
   "cell_type": "code",
   "execution_count": 45,
   "id": "b2b65522",
   "metadata": {},
   "outputs": [
    {
     "data": {
      "text/html": [
       "<div>\n",
       "<style scoped>\n",
       "    .dataframe tbody tr th:only-of-type {\n",
       "        vertical-align: middle;\n",
       "    }\n",
       "\n",
       "    .dataframe tbody tr th {\n",
       "        vertical-align: top;\n",
       "    }\n",
       "\n",
       "    .dataframe thead th {\n",
       "        text-align: right;\n",
       "    }\n",
       "</style>\n",
       "<table border=\"1\" class=\"dataframe\">\n",
       "  <thead>\n",
       "    <tr style=\"text-align: right;\">\n",
       "      <th></th>\n",
       "      <th>ITEM_CODE</th>\n",
       "      <th>SEGMENT</th>\n",
       "      <th>RETAILER</th>\n",
       "      <th>VOLUME</th>\n",
       "      <th>date</th>\n",
       "    </tr>\n",
       "  </thead>\n",
       "  <tbody>\n",
       "    <tr>\n",
       "      <th>0</th>\n",
       "      <td>12844067194</td>\n",
       "      <td>Other Car</td>\n",
       "      <td>Woolworths</td>\n",
       "      <td>20732.000</td>\n",
       "      <td>2019-04-07</td>\n",
       "    </tr>\n",
       "    <tr>\n",
       "      <th>1</th>\n",
       "      <td>12844067194</td>\n",
       "      <td>Other Car</td>\n",
       "      <td>Woolworths</td>\n",
       "      <td>18034.000</td>\n",
       "      <td>2019-04-14</td>\n",
       "    </tr>\n",
       "    <tr>\n",
       "      <th>2</th>\n",
       "      <td>12844067194</td>\n",
       "      <td>Other Car</td>\n",
       "      <td>Woolworths</td>\n",
       "      <td>18105.000</td>\n",
       "      <td>2019-04-21</td>\n",
       "    </tr>\n",
       "    <tr>\n",
       "      <th>3</th>\n",
       "      <td>12844067194</td>\n",
       "      <td>Other Car</td>\n",
       "      <td>Woolworths</td>\n",
       "      <td>17821.000</td>\n",
       "      <td>2019-04-28</td>\n",
       "    </tr>\n",
       "    <tr>\n",
       "      <th>4</th>\n",
       "      <td>12844067194</td>\n",
       "      <td>Other Car</td>\n",
       "      <td>Woolworths</td>\n",
       "      <td>17040.000</td>\n",
       "      <td>2019-05-05</td>\n",
       "    </tr>\n",
       "  </tbody>\n",
       "</table>\n",
       "</div>"
      ],
      "text/plain": [
       "     ITEM_CODE    SEGMENT    RETAILER    VOLUME        date\n",
       "0  12844067194  Other Car  Woolworths 20732.000  2019-04-07\n",
       "1  12844067194  Other Car  Woolworths 18034.000  2019-04-14\n",
       "2  12844067194  Other Car  Woolworths 18105.000  2019-04-21\n",
       "3  12844067194  Other Car  Woolworths 17821.000  2019-04-28\n",
       "4  12844067194  Other Car  Woolworths 17040.000  2019-05-05"
      ]
     },
     "execution_count": 45,
     "metadata": {},
     "output_type": "execute_result"
    }
   ],
   "source": [
    "df1[['ITEM_CODE','SEGMENT','RETAILER','VOLUME','date']].head()"
   ]
  },
  {
   "cell_type": "code",
   "execution_count": 46,
   "id": "49f0eb8a",
   "metadata": {},
   "outputs": [],
   "source": [
    "# Running KPSS and ADF Tests for the timeseries of all the Ongoing SKUs, to check Stationarity\n",
    "A=pd.DataFrame()\n",
    "for segment in df1['SEGMENT'].unique():\n",
    "    for retailer in df1[df1['SEGMENT']==segment]['RETAILER'].unique():\n",
    "        T=check_stationarity(get_segment(df1,segment,retailer,date))\n",
    "        diff_stat=[]\n",
    "        tr_stat=[]\n",
    "        non_stat=[]\n",
    "        stationary=[]\n",
    "        for item in T.index.levels[0]:\n",
    "            if (T.loc[item,'Conclusion']['ADF']=='stationary') and (T.loc[item,'Conclusion']['KPSS']=='not stationary'):\n",
    "                #print('{} in {} is Trend Stationary'.format(item,retailer))\n",
    "                tr_stat.append(item)\n",
    "            elif (T.loc[item,'Conclusion']['ADF']=='non-stationary (unit root)') and (T.loc[item,'Conclusion']['KPSS']=='stationary'):\n",
    "                #print('{} in {} is Difference Stationary'.format(item,retailer))\n",
    "                diff_stat.append(item)\n",
    "            elif (T.loc[item,'Conclusion']['ADF']=='non-stationary (unit root)') and (T.loc[item,'Conclusion']['KPSS']=='not stationary'):\n",
    "                #print('{} in {} is Non Stationary'.format(item,retailer))\n",
    "                non_stat.append(item)\n",
    "            else:\n",
    "                stationary.append(item)\n",
    "            \n",
    "        a=pd.DataFrame({'RETAILER':[retailer]*(len(tr_stat)+len(diff_stat)+len(non_stat)+len(stationary)),\n",
    "          'SEGMENT':[segment]*(len(tr_stat)+len(diff_stat)+len(non_stat)+len(stationary)),\n",
    "          'ITEM':tr_stat+diff_stat+non_stat+stationary,\n",
    "          'TREND STATIONARY':['Yes' if item in tr_stat else 'No' for item in (tr_stat+diff_stat+non_stat+stationary)],\n",
    "          'DIFF. STATIONARY':['Yes' if item in diff_stat else 'No' for item in (tr_stat+diff_stat+non_stat+stationary)],\n",
    "          'NON STATIONARY':['Yes' if item in non_stat else 'No' for item in (tr_stat+diff_stat+non_stat+stationary)],\n",
    "          'STATIONARY':['Yes' if item in stationary else 'No' for item in (tr_stat+diff_stat+non_stat+stationary)]\n",
    "          })\n",
    "        A=pd.concat([A,a],ignore_index=True,axis=0)"
   ]
  },
  {
   "cell_type": "code",
   "execution_count": 47,
   "id": "5449f2cd",
   "metadata": {},
   "outputs": [
    {
     "data": {
      "text/html": [
       "<div>\n",
       "<style scoped>\n",
       "    .dataframe tbody tr th:only-of-type {\n",
       "        vertical-align: middle;\n",
       "    }\n",
       "\n",
       "    .dataframe tbody tr th {\n",
       "        vertical-align: top;\n",
       "    }\n",
       "\n",
       "    .dataframe thead th {\n",
       "        text-align: right;\n",
       "    }\n",
       "</style>\n",
       "<table border=\"1\" class=\"dataframe\">\n",
       "  <thead>\n",
       "    <tr style=\"text-align: right;\">\n",
       "      <th></th>\n",
       "      <th>RETAILER</th>\n",
       "      <th>SEGMENT</th>\n",
       "      <th>ITEM</th>\n",
       "      <th>TREND STATIONARY</th>\n",
       "      <th>DIFF. STATIONARY</th>\n",
       "      <th>NON STATIONARY</th>\n",
       "      <th>STATIONARY</th>\n",
       "    </tr>\n",
       "  </thead>\n",
       "  <tbody>\n",
       "    <tr>\n",
       "      <th>0</th>\n",
       "      <td>Woolworths</td>\n",
       "      <td>Other Car</td>\n",
       "      <td>12844082043</td>\n",
       "      <td>Yes</td>\n",
       "      <td>No</td>\n",
       "      <td>No</td>\n",
       "      <td>No</td>\n",
       "    </tr>\n",
       "    <tr>\n",
       "      <th>1</th>\n",
       "      <td>Woolworths</td>\n",
       "      <td>Other Car</td>\n",
       "      <td>76171520319</td>\n",
       "      <td>No</td>\n",
       "      <td>Yes</td>\n",
       "      <td>No</td>\n",
       "      <td>No</td>\n",
       "    </tr>\n",
       "    <tr>\n",
       "      <th>2</th>\n",
       "      <td>Woolworths</td>\n",
       "      <td>Other Car</td>\n",
       "      <td>9312790523371</td>\n",
       "      <td>No</td>\n",
       "      <td>Yes</td>\n",
       "      <td>No</td>\n",
       "      <td>No</td>\n",
       "    </tr>\n",
       "    <tr>\n",
       "      <th>3</th>\n",
       "      <td>Woolworths</td>\n",
       "      <td>Other Car</td>\n",
       "      <td>9312790523388</td>\n",
       "      <td>No</td>\n",
       "      <td>Yes</td>\n",
       "      <td>No</td>\n",
       "      <td>No</td>\n",
       "    </tr>\n",
       "    <tr>\n",
       "      <th>4</th>\n",
       "      <td>Woolworths</td>\n",
       "      <td>Other Car</td>\n",
       "      <td>76171178558</td>\n",
       "      <td>No</td>\n",
       "      <td>No</td>\n",
       "      <td>Yes</td>\n",
       "      <td>No</td>\n",
       "    </tr>\n",
       "  </tbody>\n",
       "</table>\n",
       "</div>"
      ],
      "text/plain": [
       "     RETAILER    SEGMENT           ITEM TREND STATIONARY DIFF. STATIONARY  \\\n",
       "0  Woolworths  Other Car    12844082043              Yes               No   \n",
       "1  Woolworths  Other Car    76171520319               No              Yes   \n",
       "2  Woolworths  Other Car  9312790523371               No              Yes   \n",
       "3  Woolworths  Other Car  9312790523388               No              Yes   \n",
       "4  Woolworths  Other Car    76171178558               No               No   \n",
       "\n",
       "  NON STATIONARY STATIONARY  \n",
       "0             No         No  \n",
       "1             No         No  \n",
       "2             No         No  \n",
       "3             No         No  \n",
       "4            Yes         No  "
      ]
     },
     "execution_count": 47,
     "metadata": {},
     "output_type": "execute_result"
    }
   ],
   "source": [
    "A.head()"
   ]
  },
  {
   "cell_type": "code",
   "execution_count": 48,
   "id": "dab07fe3",
   "metadata": {},
   "outputs": [],
   "source": [
    "# Dropping the irrelevant rows and converting SKUs to int from object\n",
    "A=A[~(A['SEGMENT']==A['ITEM'])]\n",
    "A['ITEM']=A['ITEM'].apply(lambda x:int(x))"
   ]
  },
  {
   "cell_type": "code",
   "execution_count": 49,
   "id": "bcf843ed",
   "metadata": {
    "scrolled": true
   },
   "outputs": [
    {
     "name": "stdout",
     "output_type": "stream",
     "text": [
      "Total Ongoing Items:  238\n",
      "Non Stationary Ongoing Items:  91\n",
      "Stationary Ongoing Items:  147\n"
     ]
    }
   ],
   "source": [
    "print(\"Total Ongoing Items: \",A.shape[0])\n",
    "print(\"Non Stationary Ongoing Items: \",(A[A['TREND STATIONARY']=='Yes'].shape[0]+A[A['DIFF. STATIONARY']=='Yes'].shape[0]+A[A['NON STATIONARY']=='Yes'].shape[0]))\n",
    "print(\"Stationary Ongoing Items: \",(A[A['STATIONARY']=='Yes'].shape[0]))\n",
    "      "
   ]
  },
  {
   "cell_type": "markdown",
   "id": "f6895b6b",
   "metadata": {},
   "source": [
    "-------"
   ]
  },
  {
   "cell_type": "markdown",
   "id": "28d7ff50",
   "metadata": {},
   "source": [
    "# Forecasting for Items using VARMAX model\n",
    "\n",
    "- Make timeseries Stationary by differencing or detrending.\n",
    "- Perform same operation on the entire dataset. (To make all the timeseries come on same timeline.)\n",
    "- Run the Granger Causality Test and Select the Endogenous and Exogenous Variables.\n",
    "- Create a VARMAX model.\n",
    "- Plot the residuals and diagonostic checking.\n",
    "- Forecasting and Error Metrics."
   ]
  },
  {
   "cell_type": "markdown",
   "id": "a939318c",
   "metadata": {},
   "source": [
    "### Making Timeseries Stationary by Differencing\n",
    "\n",
    "- We are performing first order differencing on the entire dataset.\n",
    "- Then running Stationary Tests (ADF and KPSS)."
   ]
  },
  {
   "cell_type": "code",
   "execution_count": 50,
   "id": "848fa9d4",
   "metadata": {},
   "outputs": [],
   "source": [
    "# Running KPSS and ADF Tests for the timeseries of all the Ongoing SKUs, to check Stationarity\n",
    "A=pd.DataFrame()\n",
    "for segment in df1['SEGMENT'].unique():\n",
    "    for retailer in df1[df1['SEGMENT']==segment]['RETAILER'].unique():\n",
    "        T=check_stationarity(get_segment(df1,segment,retailer,date).diff(1).dropna()) # Performing first order differencing \n",
    "        diff_stat=[]\n",
    "        tr_stat=[]\n",
    "        non_stat=[]\n",
    "        stationary=[]\n",
    "        for item in T.index.levels[0]:\n",
    "            if (T.loc[item,'Conclusion']['ADF']=='stationary') and (T.loc[item,'Conclusion']['KPSS']=='not stationary'):\n",
    "                #print('{} in {} is Trend Stationary'.format(item,retailer))\n",
    "                tr_stat.append(item)\n",
    "            elif (T.loc[item,'Conclusion']['ADF']=='non-stationary (unit root)') and (T.loc[item,'Conclusion']['KPSS']=='stationary'):\n",
    "                #print('{} in {} is Difference Stationary'.format(item,retailer))\n",
    "                diff_stat.append(item)\n",
    "            elif (T.loc[item,'Conclusion']['ADF']=='non-stationary (unit root)') and (T.loc[item,'Conclusion']['KPSS']=='not stationary'):\n",
    "                #print('{} in {} is Non Stationary'.format(item,retailer))\n",
    "                non_stat.append(item)\n",
    "            else:\n",
    "                stationary.append(item)\n",
    "            \n",
    "        a=pd.DataFrame({'RETAILER':[retailer]*(len(tr_stat)+len(diff_stat)+len(non_stat)+len(stationary)),\n",
    "          'SEGMENT':[segment]*(len(tr_stat)+len(diff_stat)+len(non_stat)+len(stationary)),\n",
    "          'ITEM':tr_stat+diff_stat+non_stat+stationary,\n",
    "          'TREND STATIONARY':['Yes' if item in tr_stat else 'No' for item in (tr_stat+diff_stat+non_stat+stationary)],\n",
    "          'DIFF. STATIONARY':['Yes' if item in diff_stat else 'No' for item in (tr_stat+diff_stat+non_stat+stationary)],\n",
    "          'NON STATIONARY':['Yes' if item in non_stat else 'No' for item in (tr_stat+diff_stat+non_stat+stationary)],\n",
    "          'STATIONARY':['Yes' if item in stationary else 'No' for item in (tr_stat+diff_stat+non_stat+stationary)]\n",
    "          })\n",
    "        A=pd.concat([A,a],ignore_index=True,axis=0)"
   ]
  },
  {
   "cell_type": "code",
   "execution_count": 51,
   "id": "afc32734",
   "metadata": {},
   "outputs": [],
   "source": [
    "# Dropping the irrelevant rows and converting SKUs to int from object\n",
    "A=A[~(A['SEGMENT']==A['ITEM'])]\n",
    "A['ITEM']=A['ITEM'].apply(lambda x:int(x))"
   ]
  },
  {
   "cell_type": "code",
   "execution_count": 52,
   "id": "5398cee7",
   "metadata": {
    "scrolled": true
   },
   "outputs": [
    {
     "name": "stdout",
     "output_type": "stream",
     "text": [
      "Total Ongoing Items:  238\n",
      "Non Stationary Ongoing Items:  13\n",
      "Stationary Ongoing Items:  225\n"
     ]
    }
   ],
   "source": [
    "print(\"Total Ongoing Items: \",A.shape[0])\n",
    "print(\"Non Stationary Ongoing Items: \",(A[A['TREND STATIONARY']=='Yes'].shape[0]+A[A['DIFF. STATIONARY']=='Yes'].shape[0]+A[A['NON STATIONARY']=='Yes'].shape[0]))\n",
    "print(\"Stationary Ongoing Items: \",(A[A['STATIONARY']=='Yes'].shape[0]))\n",
    "      "
   ]
  },
  {
   "cell_type": "markdown",
   "id": "8c70170d",
   "metadata": {},
   "source": [
    "#### Extracting Volume Sales for all the SKUs and Performing Differencing\n",
    "----"
   ]
  },
  {
   "cell_type": "markdown",
   "id": "c22f30dc",
   "metadata": {},
   "source": [
    "- Our VARMAX model uses the non differenced dataset, therefore below here I am trying to create a dataframe containing the VOLUME sales for each $ongoing$ SKU.\n",
    "- In the next cell, splitting the dataset into train and test.\n",
    "    - Last 8 values are being used in test dataset."
   ]
  },
  {
   "cell_type": "code",
   "execution_count": 53,
   "id": "fd825180",
   "metadata": {},
   "outputs": [],
   "source": [
    "F=pd.DataFrame()\n",
    "D=pd.DataFrame()\n",
    "for segment in A['SEGMENT'].unique():\n",
    "    for retailer in A['RETAILER'].unique():\n",
    "        if A[(A['SEGMENT']==segment)&(A['RETAILER']==retailer)].shape[0]!=0:\n",
    "            D=get_segment(df1,segment,retailer,date)\n",
    "            D.drop(D.columns[-4:],axis=1,inplace=True)\n",
    "            D.columns=[str(x)+'_WW' if retailer in ['Woolworths'] else str(x)+'_CG' for x in D.columns]\n",
    "            F=pd.concat([F,D],axis=1,ignore_index=False)\n",
    "        else:\n",
    "            pass"
   ]
  },
  {
   "cell_type": "code",
   "execution_count": 54,
   "id": "1e7833c2",
   "metadata": {},
   "outputs": [
    {
     "name": "stdout",
     "output_type": "stream",
     "text": [
      "Dataset Shape:  (118, 238)\n",
      "Train Set Shape: (110, 238)\n",
      "Test Set Shape: (8, 238)\n"
     ]
    }
   ],
   "source": [
    "# Splitting into Train and Test\n",
    "test_set=F.iloc[-8:,:]\n",
    "train_set=F.iloc[:-8,:]\n",
    "print(\"Dataset Shape: \",F.shape)\n",
    "print(\"Train Set Shape: {}\".format(train_set.shape))\n",
    "print(\"Test Set Shape: {}\".format(test_set.shape))"
   ]
  },
  {
   "cell_type": "markdown",
   "id": "1ad465d3",
   "metadata": {},
   "source": [
    "- To run the $Granger Causality Test$ we need stationary timeseries. Therefore, I am creating a dataframe containing stationary timeseries (Here, by means of first order differencing).\n",
    "- In the next cell, splitting the dataset into train and test. This is done so that while running $Granger Causality Test$, test dataset is not present. \n",
    "    - Last 8 values are being used in test dataset."
   ]
  },
  {
   "cell_type": "code",
   "execution_count": 55,
   "id": "25c45f2c",
   "metadata": {},
   "outputs": [],
   "source": [
    "F=pd.DataFrame()\n",
    "D=pd.DataFrame()\n",
    "for segment in A['SEGMENT'].unique():\n",
    "    for retailer in A['RETAILER'].unique():\n",
    "        if A[(A['SEGMENT']==segment)&(A['RETAILER']==retailer)].shape[0]!=0:\n",
    "            D=get_segment(df1,segment,retailer,date).diff(1).dropna()\n",
    "            D.drop(D.columns[-4:],axis=1,inplace=True)\n",
    "            D.columns=[str(x)+'_WW' if retailer in ['Woolworths'] else str(x)+'_CG' for x in D.columns]\n",
    "            F=pd.concat([F,D],axis=1,ignore_index=False)\n",
    "        else:\n",
    "            pass"
   ]
  },
  {
   "cell_type": "code",
   "execution_count": 56,
   "id": "33839d7d",
   "metadata": {},
   "outputs": [
    {
     "name": "stdout",
     "output_type": "stream",
     "text": [
      "Differenced Dataset Shape:  (117, 238)\n",
      "Differenced Train Set Shape: (109, 238)\n",
      "Differenced Test Set Shape: (8, 238)\n"
     ]
    }
   ],
   "source": [
    "# Splitting into Train and Test\n",
    "test_set_diff=F.iloc[-8:,:]\n",
    "train_set_diff=F.iloc[:-8,:]\n",
    "print(\"Differenced Dataset Shape: \",F.shape)\n",
    "print(\"Differenced Train Set Shape: {}\".format(train_set_diff.shape))\n",
    "print(\"Differenced Test Set Shape: {}\".format(test_set_diff.shape))"
   ]
  },
  {
   "cell_type": "markdown",
   "id": "783a6af8",
   "metadata": {},
   "source": [
    "-----\n",
    "## Running Granger's Causality Test"
   ]
  },
  {
   "cell_type": "markdown",
   "id": "fb51d5d7",
   "metadata": {},
   "source": [
    "$H_o$: Series1 do not cause Series2.\n",
    "\n",
    "$H_A$: Series1 granger causes Series2.\n",
    "\n",
    "- **p - value < 0.05**, leads to acceptance of $H_A$."
   ]
  },
  {
   "cell_type": "code",
   "execution_count": 57,
   "id": "c2a570ae",
   "metadata": {},
   "outputs": [],
   "source": [
    "from statsmodels.tsa.stattools import grangercausalitytests"
   ]
  },
  {
   "cell_type": "markdown",
   "id": "eb2d0284",
   "metadata": {},
   "source": [
    "**Running Granger Causality Test individually for given set**"
   ]
  },
  {
   "cell_type": "code",
   "execution_count": 58,
   "id": "1af317b7",
   "metadata": {},
   "outputs": [
    {
     "name": "stdout",
     "output_type": "stream",
     "text": [
      "12844067194_WW 12844082043_WW\n"
     ]
    }
   ],
   "source": [
    "y=train_set_diff.columns[0] # Target variable (Endogenous variable)\n",
    "x=train_set_diff.columns[1] # Exogenous Variable\n",
    "print(y,x)"
   ]
  },
  {
   "cell_type": "code",
   "execution_count": 59,
   "id": "a6a67049",
   "metadata": {},
   "outputs": [
    {
     "name": "stdout",
     "output_type": "stream",
     "text": [
      "Does 12844082043_WW causes 12844067194_WW ?\n",
      "\n",
      "\n",
      "Granger Causality\n",
      "number of lags (no zero) 1\n",
      "ssr based F test:         F=0.1843  , p=0.6686  , df_denom=105, df_num=1\n",
      "ssr based chi2 test:   chi2=0.1896  , p=0.6633  , df=1\n",
      "likelihood ratio test: chi2=0.1894  , p=0.6634  , df=1\n",
      "parameter F test:         F=0.1843  , p=0.6686  , df_denom=105, df_num=1\n",
      "\n",
      "Granger Causality\n",
      "number of lags (no zero) 2\n",
      "ssr based F test:         F=0.6386  , p=0.5301  , df_denom=102, df_num=2\n",
      "ssr based chi2 test:   chi2=1.3397  , p=0.5118  , df=2\n",
      "likelihood ratio test: chi2=1.3314  , p=0.5139  , df=2\n",
      "parameter F test:         F=0.6386  , p=0.5301  , df_denom=102, df_num=2\n",
      "----------------------------------------\n",
      "Does 12844067194_WW causes 12844082043_WW ?\n",
      "\n",
      "\n",
      "Granger Causality\n",
      "number of lags (no zero) 1\n",
      "ssr based F test:         F=0.1412  , p=0.7078  , df_denom=105, df_num=1\n",
      "ssr based chi2 test:   chi2=0.1453  , p=0.7031  , df=1\n",
      "likelihood ratio test: chi2=0.1452  , p=0.7032  , df=1\n",
      "parameter F test:         F=0.1412  , p=0.7078  , df_denom=105, df_num=1\n",
      "\n",
      "Granger Causality\n",
      "number of lags (no zero) 2\n",
      "ssr based F test:         F=0.3118  , p=0.7328  , df_denom=102, df_num=2\n",
      "ssr based chi2 test:   chi2=0.6542  , p=0.7210  , df=2\n",
      "likelihood ratio test: chi2=0.6523  , p=0.7217  , df=2\n",
      "parameter F test:         F=0.3118  , p=0.7328  , df_denom=102, df_num=2\n"
     ]
    }
   ],
   "source": [
    "print('Does {} causes {} ?\\n'.format(x,y))\n",
    "granger_1 = grangercausalitytests(train_set_diff[[y,x]], maxlag=2)\n",
    "print(\"-\"*40)\n",
    "print('Does {} causes {} ?\\n'.format(y,x))\n",
    "granger_1 = grangercausalitytests(train_set_diff[[x,y]], maxlag=2)"
   ]
  },
  {
   "cell_type": "markdown",
   "id": "8ed4051c",
   "metadata": {},
   "source": [
    "- We can see from results that p-values are greater than 0.5 for both the cases. Therefore, we conclude that series are not causing at each other when considered max lags is 3."
   ]
  },
  {
   "cell_type": "markdown",
   "id": "bb9b334a",
   "metadata": {},
   "source": [
    "**Running Granger Causality Test over entire dataset for given $y$**\n",
    "- Below here we are running Granger Causality function for a given *y* for all the possible combination.\n",
    "- We identify the causing variables as those which returns p-values less than 0.05 for all the mentioned lags.\n",
    "    - In case we have no variable for which p-value are less than 0.05, I will identify the variable which has values nearest to 0.05.\n",
    "    - This is done, so that we are able to fit the VARMAX model with atleast one exogenous variable for given *y*."
   ]
  },
  {
   "cell_type": "code",
   "execution_count": 60,
   "id": "ba2cccc9",
   "metadata": {},
   "outputs": [
    {
     "name": "stdout",
     "output_type": "stream",
     "text": [
      "Column - 12844082043_WW: P_values - [0.6686, 0.5301, 0.4433, 0.5905]\n",
      "Column - 12844090314_WW: P_values - [0.0102, 0.0157, 0.0026, 0.0046]\n",
      "Column - 12844090321_WW: P_values - [0.0068, 0.0099, 0.0009, 0.0017]\n",
      "Column - 12844092035_WW: P_values - [0.7004, 0.4313, 0.3692, 0.4888]\n",
      "Column - 12844095937_WW: P_values - [0.3663, 0.2514, 0.0456, 0.0302]\n",
      "Column - 76171101006_WW: P_values - [0.5087, 0.8759, 0.0712, 0.1632]\n",
      "Column - 76171178558_WW: P_values - [0.5448, 0.6479, 0.0898, 0.1742]\n",
      "Column - 76171520319_WW: P_values - [0.7212, 0.6594, 0.9185, 0.9469]\n",
      "Column - 9311412400014_WW: P_values - [0.0379, 0.1909, 0.434, 0.5009]\n",
      "Column - 9312790516069_WW: P_values - [0.811, 0.6525, 0.6901, 0.2943]\n",
      "Column - 9312790518346_WW: P_values - [0.8631, 0.8548, 0.6755, 0.1399]\n",
      "Column - 9312790523371_WW: P_values - [0.3483, 0.1961, 0.1883, 0.249]\n",
      "Column - 9312790523388_WW: P_values - [0.5441, 0.6035, 0.6513, 0.8235]\n",
      "Column - 9312790523401_WW: P_values - [0.2119, 0.1383, 0.0928, 0.1325]\n",
      "Column - 76171101006_CG: P_values - [0.5547, 0.655, 0.4819, 0.5107]\n",
      "Column - 9336508000442_CG: P_values - [0.4676, 0.7186, 0.711, 0.6794]\n",
      "Column - 9336508000466_CG: P_values - [0.98, 0.9922, 0.9996, 0.9472]\n",
      "Column - 9336508000473_CG: P_values - [0.8281, 0.6915, 0.7427, 0.5543]\n",
      "Column - 9336508000480_CG: P_values - [0.1004, 0.1932, 0.3214, 0.1032]\n",
      "Column - 9336508000497_CG: P_values - [0.329, 0.5143, 0.7235, 0.1333]\n",
      "Column - 9336508000541_CG: P_values - [0.2272, 0.515, 0.7754, 0.904]\n",
      "Column - 12844095784_WW: P_values - [0.2319, 0.1833, 0.0963, 0.0392]\n",
      "Column - 12844099843_WW: P_values - [0.5817, 0.7493, 0.8731, 0.8986]\n",
      "Column - 4902430370745_WW: P_values - [0.0545, 0.0021, 0.0001, 0.0002]\n",
      "Column - 4902430370752_WW: P_values - [0.1304, 0.169, 0.0066, 0.0082]\n",
      "Column - 4902430377409_WW: P_values - [0.0325, 0.1545, 0.304, 0.4298]\n",
      "Column - 4902430377423_WW: P_values - [0.03, 0.1364, 0.2717, 0.395]\n",
      "Column - 4902430523103_WW: P_values - [0.0326, 0.1465, 0.292, 0.424]\n",
      "Column - 4902430571418_WW: P_values - [0.1543, 0.145, 0.0014, 0.0015]\n",
      "Column - 4902430571760_WW: P_values - [0.0566, 0.0634, 0.0003, 0.0002]\n",
      "Column - 4902430571883_WW: P_values - [0.0708, 0.061, 0.0008, 0.0007]\n",
      "Column - 4902430571906_WW: P_values - [0.0313, 0.0275, 0.0004, 0.0003]\n",
      "Column - 9300701817039_WW: P_values - [0.9317, 0.487, 0.7424, 0.5138]\n",
      "Column - 4902430377409_CG: P_values - [0.2386, 0.5915, 0.5974, 0.3437]\n",
      "Column - 4902430377423_CG: P_values - [0.1653, 0.4746, 0.4505, 0.3098]\n",
      "Column - 4902430523103_CG: P_values - [0.1401, 0.4246, 0.3831, 0.1869]\n",
      "Column - 4902430571418_CG: P_values - [0.7198, 0.9016, 0.8651, 0.9357]\n",
      "Column - 4902430571760_CG: P_values - [0.7394, 0.824, 0.8887, 0.9698]\n",
      "Column - 4902430571883_CG: P_values - [0.8143, 0.9525, 0.9209, 0.9566]\n",
      "Column - 4902430571906_CG: P_values - [0.7213, 0.8856, 0.9302, 0.9841]\n",
      "Column - 4902430571920_CG: P_values - [0.8144, 0.849, 0.8862, 0.9329]\n",
      "Column - 4902430571944_CG: P_values - [0.7363, 0.8011, 0.9009, 0.9768]\n",
      "Column - 9300701816995_CG: P_values - [0.6399, 0.7731, 0.5496, 0.4332]\n",
      "Column - 9300701817015_CG: P_values - [0.685, 0.9053, 0.5616, 0.5345]\n",
      "Column - 9300701817022_CG: P_values - [0.642, 0.8293, 0.5123, 0.3914]\n",
      "Column - 9300701817039_CG: P_values - [0.8411, 0.9043, 0.7792, 0.733]\n",
      "Column - 46500008054_WW: P_values - [0.9054, 0.6136, 0.8648, 0.9119]\n",
      "Column - 46500703348_WW: P_values - [0.9887, 0.8971, 0.8097, 0.7588]\n",
      "Column - 46500769467_WW: P_values - [0.8598, 0.8518, 0.7094, 0.7187]\n",
      "Column - 46500769504_WW: P_values - [0.993, 0.8331, 0.7045, 0.743]\n",
      "Column - 46500769597_WW: P_values - [0.9498, 0.7093, 0.6565, 0.6712]\n",
      "Column - 9300633325916_WW: P_values - [0.8354, 0.274, 0.3562, 0.3136]\n",
      "Column - 9300633447953_WW: P_values - [0.1411, 0.1325, 0.259, 0.3479]\n",
      "Column - 9300633630355_WW: P_values - [0.6348, 0.9735, 0.7927, 0.8494]\n",
      "Column - 9300633630362_WW: P_values - [0.7354, 0.9522, 0.9157, 0.902]\n",
      "Column - 9317241300099_WW: P_values - [0.0347, 0.1729, 0.2338, 0.0656]\n",
      "Column - 9317241300105_WW: P_values - [0.099, 0.3421, 0.1919, 0.0475]\n",
      "Column - 9339687041381_WW: P_values - [0.8861, 0.9125, 0.8667, 0.8856]\n",
      "Column - 9300701794026_CG: P_values - [0.42, 0.1267, 0.0377, 0.0523]\n",
      "Column - 9300701794033_CG: P_values - [0.435, 0.073, 0.0158, 0.0217]\n",
      "Column - 9300701803513_CG: P_values - [0.353, 0.0805, 0.0178, 0.0213]\n",
      "Column - 9300701820855_CG: P_values - [0.4452, 0.063, 0.0112, 0.0181]\n",
      "Column - 9317241300099_CG: P_values - [0.7584, 0.0181, 0.0256, 0.0155]\n",
      "Column - 9317241300105_CG: P_values - [0.8083, 0.0007, 0.0006, 0.0002]\n",
      "Column - 9338817011461_CG: P_values - [0.1091, 0.0367, 0.0791, 0.1396]\n",
      "Column - 9338817011478_CG: P_values - [0.7732, 0.5232, 0.7356, 0.8914]\n",
      "Column - 9338817011485_CG: P_values - [0.3868, 0.5188, 0.7159, 0.8402]\n",
      "Column - 9338817011492_CG: P_values - [0.4337, 0.4662, 0.7181, 0.8752]\n",
      "Column - 46500705403_WW: P_values - [0.9226, 0.4479, 0.4212, 0.5282]\n",
      "Column - 46500709395_WW: P_values - [0.4064, 0.4142, 0.0596, 0.0954]\n",
      "Column - 46500716867_WW: P_values - [0.4649, 0.8058, 0.8954, 0.2964]\n",
      "Column - 46500753923_WW: P_values - [0.3715, 0.3087, 0.3817, 0.5599]\n",
      "Column - 9300622712772_WW: P_values - [0.7524, 0.7172, 0.2216, 0.3437]\n",
      "Column - 9300622714394_WW: P_values - [0.6351, 0.7439, 0.3482, 0.5322]\n",
      "Column - 9300622714417_WW: P_values - [0.4997, 0.399, 0.5318, 0.2183]\n",
      "Column - 9300701417475_WW: P_values - [0.32, 0.1338, 0.1814, 0.3005]\n",
      "Column - 9300701417482_WW: P_values - [0.9603, 0.726, 0.3791, 0.3825]\n",
      "Column - 9300701417499_WW: P_values - [0.7063, 0.5301, 0.3077, 0.4466]\n",
      "Column - 9300701418601_WW: P_values - [0.8066, 0.6827, 0.5979, 0.7708]\n",
      "Column - 46500709395_CG: P_values - [0.1996, 0.0785, 0.0489, 0.0919]\n",
      "Column - 46500714894_CG: P_values - [0.7808, 0.0407, 0.0318, 0.0746]\n",
      "Column - 46500716867_CG: P_values - [0.441, 0.3259, 0.4741, 0.5367]\n",
      "Column - 46500753923_CG: P_values - [0.4277, 0.0018, 0.0006, 0.0002]\n",
      "Column - 9300622714394_CG: P_values - [0.9982, 0.6471, 0.5493, 0.2475]\n",
      "Column - 9300622714417_CG: P_values - [0.5096, 0.7106, 0.2614, 0.357]\n",
      "Column - 9300701417475_CG: P_values - [0.6651, 0.6324, 0.1585, 0.3096]\n",
      "Column - 9300701417482_CG: P_values - [0.5742, 0.457, 0.1183, 0.2498]\n",
      "Column - 9310645171685_CG: P_values - [0.6853, 0.694, 0.2322, 0.4427]\n",
      "Column - 9310645171692_CG: P_values - [0.9264, 0.9095, 0.5096, 0.7422]\n",
      "Column - 9310645171708_CG: P_values - [0.8467, 0.5242, 0.2307, 0.2498]\n",
      "Column - 9310645171715_CG: P_values - [0.787, 0.7883, 0.3077, 0.3468]\n",
      "Column - 9310645171722_CG: P_values - [0.1025, 0.063, 0.0626, 0.0626]\n",
      "Column - 9310645214955_CG: P_values - [0.7326, 0.6739, 0.1743, 0.3835]\n",
      "Column - 9310645214962_CG: P_values - [0.8192, 0.84, 0.1591, 0.3347]\n",
      "Column - 4901609002883_WW: P_values - [0.2897, 0.0828, 0.0914, 0.1777]\n",
      "Column - 4901609002913_WW: P_values - [0.5816, 0.0833, 0.2094, 0.1422]\n",
      "Column - 9300622001555_WW: P_values - [0.3261, 0.2197, 0.3707, 0.1898]\n",
      "Column - 9300701950552_WW: P_values - [0.6286, 0.3279, 0.459, 0.1552]\n",
      "Column - 9348897000194_WW: P_values - [0.9454, 0.1787, 0.0715, 0.0912]\n",
      "Column - 9348897000200_WW: P_values - [0.0721, 0.3338, 0.5355, 0.5392]\n",
      "Column - 9348897000217_WW: P_values - [0.4346, 0.0739, 0.1969, 0.28]\n",
      "Column - 9348897000224_WW: P_values - [0.3269, 0.2277, 0.4036, 0.4738]\n",
      "Column - 9348897000231_WW: P_values - [0.3855, 0.3076, 0.3052, 0.1691]\n",
      "Column - 9348897000248_WW: P_values - [0.2586, 0.0997, 0.1708, 0.2266]\n",
      "Column - 9348897000279_WW: P_values - [0.1162, 0.2265, 0.4228, 0.6523]\n",
      "Column - 9348897000323_WW: P_values - [0.7129, 0.2516, 0.3649, 0.4225]\n",
      "Column - 4901609002838_CG: P_values - [0.6245, 0.9877, 0.7016, 0.729]\n",
      "Column - 4901609002883_CG: P_values - [0.4174, 0.1142, 0.2067, 0.2306]\n",
      "Column - 9300622001555_CG: P_values - [0.8266, 0.7366, 0.6197, 0.6864]\n",
      "Column - 9300701950552_CG: P_values - [0.2652, 0.0789, 0.0456, 0.0946]\n",
      "Column - 4902430304733_WW: P_values - [0.8788, 0.2485, 0.3466, 0.6329]\n",
      "Column - 4902430345156_WW: P_values - [0.9005, 0.1389, 0.2389, 0.3634]\n",
      "Column - 5011417563878_WW: P_values - [0.7634, 0.6137, 0.9033, 0.2842]\n",
      "Column - 5011417563892_WW: P_values - [0.962, 0.5691, 0.8278, 0.2782]\n",
      "Column - 5011417567081_WW: P_values - [0.776, 0.6435, 0.9111, 0.2988]\n",
      "Column - 5011417570081_WW: P_values - [0.8285, 0.5577, 0.8913, 0.2576]\n",
      "Column - 9300631547792_WW: P_values - [0.9478, 0.549, 0.7269, 0.6784]\n",
      "Column - 9300701524470_WW: P_values - [0.9219, 0.4916, 0.8071, 0.6612]\n",
      "Column - 9300701524487_WW: P_values - [0.5833, 0.1655, 0.4406, 0.1335]\n",
      "Column - 9300701741129_WW: P_values - [0.7316, 0.8844, 0.9825, 0.9167]\n",
      "Column - 9300701741136_WW: P_values - [0.7075, 0.6158, 0.7468, 0.9109]\n",
      "Column - 9300701741143_WW: P_values - [0.941, 0.607, 0.8201, 0.9385]\n",
      "Column - 9300701741150_WW: P_values - [0.8209, 0.2935, 0.513, 0.7663]\n",
      "Column - 9300701799328_WW: P_values - [0.2452, 0.1773, 0.2256, 0.1754]\n",
      "Column - 4902430304733_CG: P_values - [0.0272, 0.1941, 0.3276, 0.2942]\n",
      "Column - 4902430304757_CG: P_values - [0.0335, 0.1994, 0.344, 0.3185]\n",
      "Column - 4902430345156_CG: P_values - [0.0403, 0.2414, 0.3925, 0.4096]\n",
      "Column - 5011417563878_CG: P_values - [0.4639, 0.6652, 0.7008, 0.7776]\n",
      "Column - 5011417563892_CG: P_values - [0.4582, 0.6851, 0.7195, 0.7984]\n",
      "Column - 5011417565414_CG: P_values - [0.4098, 0.4604, 0.4789, 0.5547]\n",
      "Column - 5011417565421_CG: P_values - [0.3358, 0.606, 0.6316, 0.7346]\n",
      "Column - 5011417567081_CG: P_values - [0.4966, 0.614, 0.6506, 0.7116]\n",
      "Column - 9300631547792_CG: P_values - [0.1225, 0.0483, 0.1111, 0.1116]\n",
      "Column - 9300701524470_CG: P_values - [0.941, 0.6811, 0.7107, 0.8845]\n",
      "Column - 9300701524487_CG: P_values - [0.1012, 0.4622, 0.559, 0.5674]\n",
      "Column - 9300701524494_CG: P_values - [0.3451, 0.9983, 0.8108, 0.9468]\n",
      "Column - 9300701741129_CG: P_values - [0.7206, 0.5585, 0.5217, 0.6891]\n",
      "Column - 9300701741136_CG: P_values - [0.866, 0.6941, 0.8774, 0.8795]\n",
      "Column - 9300701741143_CG: P_values - [0.1148, 0.5324, 0.5509, 0.6311]\n",
      "Column - 9300701741150_CG: P_values - [0.5997, 0.9987, 0.9498, 0.9947]\n",
      "Column - 9300701759254_CG: P_values - [0.6653, 0.5557, 0.4779, 0.7678]\n",
      "Column - 9300701759278_CG: P_values - [0.73, 0.8414, 0.5789, 0.7368]\n",
      "Column - 9300701799328_CG: P_values - [0.0645, 0.3094, 0.1962, 0.2114]\n",
      "Column - 4902430470803_WW: P_values - [0.5555, 0.3621, 0.5917, 0.7401]\n",
      "Column - 4902430474665_WW: P_values - [0.5717, 0.3518, 0.5248, 0.6241]\n",
      "Column - 4902430475129_WW: P_values - [0.5658, 0.3724, 0.6148, 0.7612]\n",
      "Column - 9300615019710_WW: P_values - [0.2121, 0.2637, 0.4065, 0.4612]\n",
      "Column - 9300701042417_WW: P_values - [0.5929, 0.9276, 0.9341, 0.6337]\n",
      "Column - 9300701152338_WW: P_values - [0.9596, 0.7391, 0.7288, 0.8664]\n",
      "Column - 9300701419868_WW: P_values - [0.3641, 0.7605, 0.5867, 0.4622]\n",
      "Column - 9300701447359_WW: P_values - [0.7209, 0.1001, 0.06, 0.0206]\n",
      "Column - 9300701689155_WW: P_values - [0.7013, 0.255, 0.2953, 0.0039]\n",
      "Column - 9300701727628_WW: P_values - [0.32, 0.5863, 0.6242, 0.3855]\n",
      "Column - 9300701744267_WW: P_values - [0.4188, 0.8915, 0.9936, 0.9413]\n",
      "Column - 9300701744274_WW: P_values - [0.4136, 0.6639, 0.5412, 0.7191]\n",
      "Column - 9300701755287_WW: P_values - [0.3044, 0.9239, 0.7759, 0.3443]\n",
      "Column - 9300701755317_WW: P_values - [0.3753, 0.9831, 0.6977, 0.1491]\n",
      "Column - 9300701765545_WW: P_values - [0.9719, 0.446, 0.7776, 0.3825]\n",
      "Column - 9300701765552_WW: P_values - [0.9412, 0.4308, 0.757, 0.4021]\n",
      "Column - 9300701781033_WW: P_values - [0.7019, 0.3101, 0.3625, 0.0047]\n",
      "Column - 9300615019710_CG: P_values - [0.9298, 0.8824, 0.8841, 0.7812]\n",
      "Column - 9300701042417_CG: P_values - [0.1129, 0.1099, 0.1802, 0.3378]\n",
      "Column - 9300701152338_CG: P_values - [0.0232, 0.0138, 0.0215, 0.0656]\n",
      "Column - 9300701419868_CG: P_values - [0.2124, 0.0186, 0.0331, 0.0287]\n",
      "Column - 9300701447359_CG: P_values - [0.3863, 0.0279, 0.0543, 0.1219]\n",
      "Column - 9300701689155_CG: P_values - [0.1394, 0.0889, 0.069, 0.166]\n",
      "Column - 9300701727628_CG: P_values - [0.0982, 0.0821, 0.123, 0.2445]\n",
      "Column - 9300701744267_CG: P_values - [0.4705, 0.7669, 0.8706, 0.4658]\n",
      "Column - 9300701744274_CG: P_values - [0.3562, 0.8443, 0.9766, 0.4718]\n",
      "Column - 9300701744281_CG: P_values - [0.6465, 0.9535, 0.944, 0.5979]\n",
      "Column - 9300701765545_CG: P_values - [0.3799, 0.8636, 0.3383, 0.4715]\n",
      "Column - 9300701765552_CG: P_values - [0.5062, 0.8971, 0.4137, 0.5499]\n",
      "Column - 9300701781033_CG: P_values - [0.2137, 0.167, 0.1535, 0.3155]\n",
      "Column - 5011417567104_WW: P_values - [0.7571, 0.8469, 0.576, 0.5243]\n",
      "Column - 5011417567111_WW: P_values - [0.9072, 0.6847, 0.5313, 0.5343]\n",
      "Column - 9317241007530_WW: P_values - [0.7847, 0.8675, 0.3352, 0.4947]\n",
      "Column - 9317241010066_WW: P_values - [0.752, 0.8085, 0.3279, 0.498]\n",
      "Column - 9317241300167_WW: P_values - [0.1536, 0.4491, 0.3743, 0.3446]\n",
      "Column - 9317241300600_WW: P_values - [0.9477, 0.9383, 0.2218, 0.3086]\n",
      "Column - 93615693_CG: P_values - [0.657, 0.9695, 0.9949, 0.7801]\n",
      "Column - 5011417567104_CG: P_values - [0.2145, 0.3936, 0.391, 0.2785]\n",
      "Column - 5011417567111_CG: P_values - [0.1547, 0.3017, 0.2962, 0.1866]\n",
      "Column - 9317241001019_CG: P_values - [0.7945, 0.7141, 0.8222, 0.4991]\n",
      "Column - 9317241007530_CG: P_values - [0.7308, 0.6225, 0.7511, 0.5936]\n",
      "Column - 9317241300167_CG: P_values - [0.931, 0.0079, 0.0054, 0.0012]\n",
      "Column - 9317241300600_CG: P_values - [0.4374, 0.0014, 0.0032, 0.0031]\n",
      "Column - 9300701974756_WW: P_values - [0.029, 0.3088, 0.1851, 0.2867]\n",
      "Column - 9300633630386_WW: P_values - [0.0704, 0.05, 0.0848, 0.1808]\n",
      "Column - 9300633630393_WW: P_values - [0.0824, 0.0567, 0.1018, 0.223]\n",
      "Column - 9300701005061_WW: P_values - [0.5281, 0.6819, 0.9187, 0.9347]\n",
      "Column - 9300701005115_WW: P_values - [0.5385, 0.6781, 0.9119, 0.9475]\n",
      "Column - 9300701082802_WW: P_values - [0.8151, 0.0157, 0.0387, 0.0757]\n",
      "Column - 9300701082819_WW: P_values - [0.772, 0.0132, 0.033, 0.0597]\n",
      "Column - 9339687023288_WW: P_values - [0.0875, 0.0658, 0.1346, 0.2887]\n",
      "Column - 9300701005061_CG: P_values - [0.6595, 0.3095, 0.5497, 0.3536]\n",
      "Column - 9300701005115_CG: P_values - [0.6295, 0.3098, 0.5546, 0.2721]\n",
      "Column - 9317241300501_CG: P_values - [0.5557, 0.002, 0.0013, 0.0003]\n",
      "Column - 9317241300563_CG: P_values - [0.5497, 0.0078, 0.0049, 0.0016]\n",
      "Column - 9338817011508_CG: P_values - [0.3568, 0.3902, 0.5701, 0.7645]\n",
      "Column - 9338817011515_CG: P_values - [0.563, 0.551, 0.7434, 0.8905]\n",
      "Column - 9338817011522_CG: P_values - [0.0277, 0.0104, 0.0158, 0.0356]\n",
      "Column - 9338817011539_CG: P_values - [0.0194, 0.0064, 0.0093, 0.0271]\n",
      "Column - 9300633973872_WW: P_values - [0.7813, 0.8494, 0.8074, 0.8397]\n",
      "Column - 9300701158392_WW: P_values - [0.1722, 0.0602, 0.1082, 0.1601]\n",
      "Column - 9300701209032_WW: P_values - [0.1854, 0.0867, 0.1573, 0.2678]\n",
      "Column - 9300701701482_WW: P_values - [0.2408, 0.2079, 0.363, 0.4548]\n",
      "Column - 9300701701499_WW: P_values - [0.2732, 0.1214, 0.2303, 0.3571]\n",
      "Column - 9300701985448_WW: P_values - [0.4844, 0.4236, 0.4267, 0.534]\n",
      "Column - 9300701985455_WW: P_values - [0.3402, 0.2759, 0.439, 0.4695]\n",
      "Column - 9310045950255_WW: P_values - [0.2584, 0.1271, 0.2232, 0.3454]\n",
      "Column - 9312240310438_WW: P_values - [0.021, 0.2651, 0.2599, 0.263]\n",
      "Column - 9312240310445_WW: P_values - [0.0333, 0.3223, 0.2878, 0.2984]\n",
      "Column - 9312240310452_WW: P_values - [0.0407, 0.516, 0.3895, 0.4199]\n",
      "Column - 9314145002005_WW: P_values - [0.1243, 0.1517, 0.2476, 0.4619]\n",
      "Column - 9339687013487_WW: P_values - [0.9208, 0.8814, 0.8926, 0.9161]\n",
      "Column - 9300601413874_CG: P_values - [0.8107, 0.8215, 0.3493, 0.3698]\n",
      "Column - 9300701158392_CG: P_values - [0.5605, 0.486, 0.4807, 0.4917]\n",
      "Column - 9300701209032_CG: P_values - [0.1813, 0.1903, 0.184, 0.2437]\n",
      "Column - 9300701701482_CG: P_values - [0.004, 0.029, 0.0114, 0.0133]\n",
      "Column - 9300701701499_CG: P_values - [0.6042, 0.5454, 0.5995, 0.4756]\n",
      "Column - 9300701985448_CG: P_values - [0.7489, 0.8974, 0.0692, 0.0746]\n",
      "Column - 9300701985455_CG: P_values - [0.1695, 0.4917, 0.4981, 0.7036]\n",
      "Column - 9310045950255_CG: P_values - [0.155, 0.2244, 0.2593, 0.2894]\n",
      "Column - 9312240310438_CG: P_values - [0.7902, 0.6743, 0.5366, 0.6424]\n",
      "Column - 9312240310445_CG: P_values - [0.6648, 0.9508, 0.7148, 0.8452]\n",
      "Column - 9312240310506_CG: P_values - [0.9296, 0.7925, 0.5684, 0.6861]\n",
      "Column - 9314145004009_CG: P_values - [0.2209, 0.158, 0.0803, 0.1722]\n",
      "Column - 9300701525019_WW: P_values - [0.3427, 0.3884, 0.3904, 0.5949]\n",
      "Column - 9300701525033_WW: P_values - [0.0797, 0.2197, 0.3229, 0.3078]\n",
      "Column - 9300701525040_WW: P_values - [0.093, 0.2342, 0.3826, 0.3821]\n",
      "Column - 9300701744298_WW: P_values - [0.3972, 0.3125, 0.3008, 0.4978]\n",
      "Column - 9300701525019_CG: P_values - [0.3248, 0.8129, 0.9311, 0.9174]\n",
      "Column - 9300701525026_CG: P_values - [0.0309, 0.052, 0.0897, 0.0961]\n",
      "Column - 9300701525033_CG: P_values - [0.0397, 0.0695, 0.1246, 0.1236]\n",
      "Column - 9300701525040_CG: P_values - [0.0315, 0.0612, 0.1181, 0.1186]\n",
      "Column - 9300701529161_CG: P_values - [0.0207, 0.0267, 0.0498, 0.048]\n",
      "Column - 9300701744298_CG: P_values - [0.4245, 0.8376, 0.9506, 0.956]\n",
      "------------------------------\n",
      "Time Series which Granger Causes 12844067194_WW are: ['12844090314_WW', '12844090321_WW', '4902430571906_WW', '9338817011522_CG', '9338817011539_CG', '9300701701482_CG', '9300701529161_CG']\n"
     ]
    }
   ],
   "source": [
    "max_lags=4\n",
    "pred=[]\n",
    "causing=dict()\n",
    "sum_p=4\n",
    "\n",
    "for i in range(len(train_set_diff.columns)-1):\n",
    "    \n",
    "    results=grangercausalitytests(train_set_diff[[y,train_set_diff.columns[i+1]]], max_lags, verbose=False)\n",
    "    p_values=[round(results[j+1][0]['ssr_ftest'][1],4) for j in range(max_lags)]\n",
    "    \n",
    "\n",
    "    if max(p_values)<=0.05:\n",
    "        pred.append(train_set_diff.columns[i+1])\n",
    "    \n",
    "    if sum_p>sum(p_values):\n",
    "        sum_p=sum(p_values)\n",
    "        causing['ITEM']=train_set_diff.columns[i+1]\n",
    "        causing['p_values']=p_values\n",
    "        causing['sum_p']=sum(p_values)\n",
    "        \n",
    "        \n",
    "    print('Column - {}: P_values - {}'.format(train_set_diff.columns[i+1],p_values))\n",
    "print(\"-\"*30)\n",
    "print(\"Time Series which Granger Causes {} are: {}\".format(y,pred))\n",
    "if len(pred)==0:\n",
    "    pred.append(causing['ITEM'])\n",
    "    \n",
    "    \n",
    "# Inserting the y at zero index position, to run the VARMAX model later.\n",
    "pred.insert(0,y)"
   ]
  },
  {
   "cell_type": "markdown",
   "id": "a037a1a2",
   "metadata": {},
   "source": [
    "------\n",
    "## Fitting VARMAX model"
   ]
  },
  {
   "cell_type": "code",
   "execution_count": 61,
   "id": "14b62d90",
   "metadata": {},
   "outputs": [],
   "source": [
    "from statsmodels.tsa.statespace.varmax import VARMAX\n",
    "from statsmodels.tsa.statespace.varmax import VARMAXResults"
   ]
  },
  {
   "cell_type": "markdown",
   "id": "f273856b",
   "metadata": {},
   "source": [
    "#### Parameter Search for the VARMAX model\n",
    "-----"
   ]
  },
  {
   "cell_type": "code",
   "execution_count": 62,
   "id": "37d08e75",
   "metadata": {},
   "outputs": [
    {
     "name": "stdout",
     "output_type": "stream",
     "text": [
      "0 1\n",
      "0 2\n",
      "1 1\n",
      "1 2\n",
      "2 1\n",
      "2 2\n"
     ]
    }
   ],
   "source": [
    "res=pd.DataFrame()\n",
    "for p in range(3):\n",
    "    for q in range(1,3):\n",
    "        print(p,q)\n",
    "        try:\n",
    "            model=VARMAX(train_set[pred].values,order=(p,q),enforce_stationarity=True)\n",
    "            model_fit=model.fit(disp=False)\n",
    "        except:\n",
    "            pass\n",
    "\n",
    "        predict = model_fit.get_prediction(start=0, end=len(train_set)-1)\n",
    "        predictions = predict.predicted_mean\n",
    "        idx = pd.date_range(start=\"2019-04-07\",periods=110,freq='W')\n",
    "        df_predictions = pd.DataFrame(predictions[:,0],index=train_set.index,columns=[y+'_pred'])\n",
    "\n",
    "        \n",
    "\n",
    "        mape=MAPE(train_set[[y]].values.flatten(),df_predictions.values.flatten())\n",
    "        #print(\"For SKU: {} MAPE is : {}\".format(item,mape))\n",
    "        rmse_item1=math.sqrt(mean_squared_error(train_set[[y]].values.flatten(),df_predictions.values.flatten()))\n",
    "        #print('Mean Volume Sales for SKU No. {} is : {}.\\nRoot Mean Squared Error is :{}'.format(y,round(np.mean(train_set[[y]].values.flatten()),2),round(rmse_item1,2)))\n",
    "\n",
    "        k=pd.DataFrame({'PQ':[(p,q)],\n",
    "                       'AIC':[model_fit.aic],\n",
    "                       'BIC':[model_fit.bic],\n",
    "                       'RMSE':[rmse_item1],\n",
    "                       'MAPE':[mape]})\n",
    "        res=pd.concat([res,k],axis=0)\n",
    "                "
   ]
  },
  {
   "cell_type": "code",
   "execution_count": 63,
   "id": "8d5e4036",
   "metadata": {},
   "outputs": [
    {
     "data": {
      "text/html": [
       "<div>\n",
       "<style scoped>\n",
       "    .dataframe tbody tr th:only-of-type {\n",
       "        vertical-align: middle;\n",
       "    }\n",
       "\n",
       "    .dataframe tbody tr th {\n",
       "        vertical-align: top;\n",
       "    }\n",
       "\n",
       "    .dataframe thead th {\n",
       "        text-align: right;\n",
       "    }\n",
       "</style>\n",
       "<table border=\"1\" class=\"dataframe\">\n",
       "  <thead>\n",
       "    <tr style=\"text-align: right;\">\n",
       "      <th></th>\n",
       "      <th>PQ</th>\n",
       "      <th>AIC</th>\n",
       "      <th>BIC</th>\n",
       "      <th>RMSE</th>\n",
       "      <th>MAPE</th>\n",
       "    </tr>\n",
       "  </thead>\n",
       "  <tbody>\n",
       "    <tr>\n",
       "      <th>0</th>\n",
       "      <td>(0, 2)</td>\n",
       "      <td>18302.767</td>\n",
       "      <td>18767.250</td>\n",
       "      <td>26705.593</td>\n",
       "      <td>55.931</td>\n",
       "    </tr>\n",
       "    <tr>\n",
       "      <th>0</th>\n",
       "      <td>(1, 2)</td>\n",
       "      <td>18330.439</td>\n",
       "      <td>18967.752</td>\n",
       "      <td>24589.338</td>\n",
       "      <td>50.056</td>\n",
       "    </tr>\n",
       "    <tr>\n",
       "      <th>0</th>\n",
       "      <td>(2, 2)</td>\n",
       "      <td>18423.971</td>\n",
       "      <td>19234.115</td>\n",
       "      <td>23691.210</td>\n",
       "      <td>49.298</td>\n",
       "    </tr>\n",
       "    <tr>\n",
       "      <th>0</th>\n",
       "      <td>(2, 1)</td>\n",
       "      <td>52423.882</td>\n",
       "      <td>53061.196</td>\n",
       "      <td>101935.809</td>\n",
       "      <td>265.609</td>\n",
       "    </tr>\n",
       "    <tr>\n",
       "      <th>0</th>\n",
       "      <td>(1, 1)</td>\n",
       "      <td>7496440.931</td>\n",
       "      <td>7496905.413</td>\n",
       "      <td>6425601.474</td>\n",
       "      <td>16164.232</td>\n",
       "    </tr>\n",
       "    <tr>\n",
       "      <th>0</th>\n",
       "      <td>(0, 1)</td>\n",
       "      <td>139989083446298.234</td>\n",
       "      <td>139989083446589.891</td>\n",
       "      <td>214654166.493</td>\n",
       "      <td>627461.644</td>\n",
       "    </tr>\n",
       "  </tbody>\n",
       "</table>\n",
       "</div>"
      ],
      "text/plain": [
       "       PQ                 AIC                 BIC          RMSE       MAPE\n",
       "0  (0, 2)           18302.767           18767.250     26705.593     55.931\n",
       "0  (1, 2)           18330.439           18967.752     24589.338     50.056\n",
       "0  (2, 2)           18423.971           19234.115     23691.210     49.298\n",
       "0  (2, 1)           52423.882           53061.196    101935.809    265.609\n",
       "0  (1, 1)         7496440.931         7496905.413   6425601.474  16164.232\n",
       "0  (0, 1) 139989083446298.234 139989083446589.891 214654166.493 627461.644"
      ]
     },
     "execution_count": 63,
     "metadata": {},
     "output_type": "execute_result"
    }
   ],
   "source": [
    "p,q=res.sort_values(by='AIC')['PQ'].iloc[0]\n",
    "res.sort_values(by='AIC')"
   ]
  },
  {
   "cell_type": "code",
   "execution_count": 64,
   "id": "72b47b9d",
   "metadata": {},
   "outputs": [
    {
     "data": {
      "image/png": "[encoded data removed]",
      "text/plain": [
       "<Figure size 1000x500 with 1 Axes>"
      ]
     },
     "metadata": {},
     "output_type": "display_data"
    }
   ],
   "source": [
    "fig=plt.figure(figsize=(10,5))\n",
    "plt.plot(res['AIC'],res['MAPE'],'o')\n",
    "plt.plot(res['BIC'],res['MAPE'],'o')\n",
    "plt.xlabel('Information Criterion',fontsize=15)\n",
    "plt.ylabel('MAPE (%)',fontsize=15)\n",
    "plt.legend(['AIC','BIC'],fontsize=13)\n",
    "plt.show()"
   ]
  },
  {
   "cell_type": "markdown",
   "id": "7a901436",
   "metadata": {},
   "source": [
    "- We can notice that, for 'MAPE' it is least when 'AIC' and 'BIC' are at their max, in this case.\n"
   ]
  },
  {
   "cell_type": "markdown",
   "id": "af36af4c",
   "metadata": {},
   "source": [
    "#### Fitting the VARMAX model with resulted parameters"
   ]
  },
  {
   "cell_type": "code",
   "execution_count": 65,
   "id": "02210682",
   "metadata": {},
   "outputs": [],
   "source": [
    "model=VARMAX(train_set[pred].values,order=(p,q),enforce_stationarity=True)\n",
    "model_fit=model.fit(disp=False)"
   ]
  },
  {
   "cell_type": "code",
   "execution_count": 66,
   "id": "adb12921",
   "metadata": {},
   "outputs": [],
   "source": [
    "#print(model_fit.summary())"
   ]
  },
  {
   "cell_type": "markdown",
   "id": "52a5bc25",
   "metadata": {},
   "source": [
    "### Predicting Timeseries on Train Set\n",
    "----"
   ]
  },
  {
   "cell_type": "code",
   "execution_count": 67,
   "id": "9d09740a",
   "metadata": {},
   "outputs": [],
   "source": [
    "predict = model_fit.get_prediction(start=0, end=len(train_set)-1)\n",
    "predictions = predict.predicted_mean\n",
    "idx = pd.date_range(start=\"2019-04-07\",periods=110,freq='W')\n",
    "df_predictions = pd.DataFrame(predictions[:,0],index=train_set.index,columns=[y+'_pred'])"
   ]
  },
  {
   "cell_type": "code",
   "execution_count": 68,
   "id": "8a219128",
   "metadata": {},
   "outputs": [
    {
     "data": {
      "text/plain": [
       "(110, 1)"
      ]
     },
     "execution_count": 68,
     "metadata": {},
     "output_type": "execute_result"
    }
   ],
   "source": [
    "# This dataframe consists of prediction on train set by fitted model\n",
    "df_predictions.shape"
   ]
  },
  {
   "cell_type": "code",
   "execution_count": 69,
   "id": "fa2f5df3",
   "metadata": {},
   "outputs": [],
   "source": [
    "# Here, I have stacked the Actual and Predicted values for given TimeSeries\n",
    "p=pd.concat([train_set[[y]],df_predictions],axis=1,ignore_index=False)"
   ]
  },
  {
   "cell_type": "code",
   "execution_count": 70,
   "id": "d0d0b903",
   "metadata": {},
   "outputs": [
    {
     "data": {
      "text/plain": [
       "((110, 2), Index(['12844067194_WW', '12844067194_WW_pred'], dtype='object'))"
      ]
     },
     "execution_count": 70,
     "metadata": {},
     "output_type": "execute_result"
    }
   ],
   "source": [
    "p.shape,p.columns"
   ]
  },
  {
   "cell_type": "code",
   "execution_count": 71,
   "id": "23c72887",
   "metadata": {},
   "outputs": [
    {
     "data": {
      "image/png": "[encoded data removed]",
      "text/plain": [
       "<Figure size 1500x1000 with 1 Axes>"
      ]
     },
     "metadata": {},
     "output_type": "display_data"
    }
   ],
   "source": [
    "# Plotting the Predictions and Actual Values\n",
    "\n",
    "y0=p[p.columns[0]]\n",
    "y1=p[p.columns[1]]\n",
    "x=date[:110]\n",
    "fig,ax=plt.subplots(nrows=1,ncols=1,figsize=(15,10))\n",
    "ax.plot(x,y0,'-',color='blue' ,linewidth=0.9)\n",
    "ax.plot(x,y1,'-',color='red' ,linewidth=0.9)\n",
    "ax.set_title(\"Actual Timeseries and Predicted Timeseries for SKU No. {}\".format(y),fontsize=20)\n",
    "ax.xaxis_date()     # interpret the x-axis values as dates\n",
    "fig.autofmt_xdate() # make space for and rotate the x-axis tick labels\n",
    "ax.tick_params(labelsize=12)\n",
    "ax.legend(['Actual','Predicted'],fontsize=14)\n",
    "plt.show()"
   ]
  },
  {
   "cell_type": "markdown",
   "id": "7cb23e28",
   "metadata": {},
   "source": [
    "#### Diagonostic Checking\n",
    "- The residuals should behave like white noise.\n",
    "- The residual sample autocorrelation function should have no structure to identify.\n",
    "    - Autocorrelation should not differ significantly from zero for all lags greater than one."
   ]
  },
  {
   "cell_type": "code",
   "execution_count": 72,
   "id": "694c0751",
   "metadata": {},
   "outputs": [
    {
     "data": {
      "image/png": "[encoded data removed]",
      "text/plain": [
       "<Figure size 1500x1000 with 4 Axes>"
      ]
     },
     "metadata": {},
     "output_type": "display_data"
    }
   ],
   "source": [
    "model_fit.plot_diagnostics(figsize=(15,10))\n",
    "plt.show()"
   ]
  },
  {
   "cell_type": "markdown",
   "id": "690aa3db",
   "metadata": {},
   "source": [
    "#### Durbing Watson (Autocorrelation Test)\n",
    "---\n",
    "- The Durbin Watson statistic is a test for autocorrelation in a regression model's output.\n",
    "- The DW statistic ranges from zero to four, with a value of 2.0 indicating zero autocorrelation.\n",
    "    - Ideally, residuals shouldn't show any autocorrelation (2.0).\n",
    "- Values below 2.0 mean there is positive autocorrelation and above 2.0 indicates negative autocorrelation.\n"
   ]
  },
  {
   "cell_type": "code",
   "execution_count": 73,
   "id": "a6463fa0",
   "metadata": {},
   "outputs": [],
   "source": [
    "from statsmodels.stats.stattools import durbin_watson"
   ]
  },
  {
   "cell_type": "code",
   "execution_count": 74,
   "id": "6f8c4295",
   "metadata": {},
   "outputs": [
    {
     "name": "stdout",
     "output_type": "stream",
     "text": [
      "Autocorrelation of the Residuals for SKU: 12844067194_WW is 2.06 \n"
     ]
    }
   ],
   "source": [
    "out = durbin_watson(model_fit.resid)\n",
    "print(\"Autocorrelation of the Residuals for SKU: {} is {} \".format(y,round(out[0], 2)))\n"
   ]
  },
  {
   "cell_type": "markdown",
   "id": "e7d74a61",
   "metadata": {},
   "source": [
    "### Error Metrics for Train Set\n",
    "----\n",
    "- Calculating MAPE, WAPE and TAPE\n",
    "- Calculating mean value and RMSE."
   ]
  },
  {
   "cell_type": "code",
   "execution_count": 75,
   "id": "40056ed5",
   "metadata": {},
   "outputs": [
    {
     "name": "stdout",
     "output_type": "stream",
     "text": [
      "For SKU: Automatic Mist Diffusers MAPE is : 55.93077212207679\n",
      "For SKU: Automatic Mist Diffusers WAPE is : 55.93077212207679\n",
      "For SKU: Automatic Mist Diffusers TAPE is : 47.476565351699314\n"
     ]
    }
   ],
   "source": [
    "print(\"For SKU: {} MAPE is : {}\".format(item,MAPE(train_set[[y]].values.flatten(),df_predictions.values.flatten())))\n",
    "print(\"For SKU: {} WAPE is : {}\".format(item,WAPE(train_set[[y]].values.flatten(),df_predictions.values.flatten())*100))\n",
    "print(\"For SKU: {} TAPE is : {}\".format(item,TAPE(train_set[[y]].values.flatten(),df_predictions.values.flatten())*100))"
   ]
  },
  {
   "cell_type": "code",
   "execution_count": 76,
   "id": "b8ed00de",
   "metadata": {},
   "outputs": [
    {
     "name": "stdout",
     "output_type": "stream",
     "text": [
      "Mean Volume Sales for SKU No. 12844067194_WW is : 35738.17.\n",
      "Root Mean Squared Error is :26705.59\n"
     ]
    }
   ],
   "source": [
    "rmse_item1=math.sqrt(mean_squared_error(train_set[[y]].values.flatten(),df_predictions.values.flatten()))\n",
    "print('Mean Volume Sales for SKU No. {} is : {}.\\nRoot Mean Squared Error is :{}'.format(y,round(np.mean(train_set[[y]].values.flatten()),2),round(rmse_item1,2)))\n"
   ]
  },
  {
   "cell_type": "markdown",
   "id": "c376c0b2",
   "metadata": {},
   "source": [
    "### Forecasting Timeseries on Test Set\n",
    "----"
   ]
  },
  {
   "cell_type": "code",
   "execution_count": 77,
   "id": "5de9bd4b",
   "metadata": {},
   "outputs": [],
   "source": [
    "# Generating forecasting\n",
    "\n",
    "predict = model_fit.forecast(steps=8)\n",
    "forecast = predict\n",
    "idx = pd.date_range(start=\"2021-05-16\",periods=8,freq='W')\n",
    "df_forecast = pd.DataFrame(forecast[:,0],index=test_set.index,columns=[y+'_pred'])"
   ]
  },
  {
   "cell_type": "code",
   "execution_count": 78,
   "id": "20df02e5",
   "metadata": {},
   "outputs": [],
   "source": [
    "# Stacking forecast and actual value in a dataframe\n",
    "p=pd.concat([test_set[[y]],df_forecast],axis=1,ignore_index=False)"
   ]
  },
  {
   "cell_type": "code",
   "execution_count": 79,
   "id": "08c47668",
   "metadata": {},
   "outputs": [
    {
     "ename": "AttributeError",
     "evalue": "'DataFrame' object has no attribute 'append'",
     "output_type": "error",
     "traceback": [
      "\u001b[1;31m---------------------------------------------------------------------------\u001b[0m",
      "\u001b[1;31mAttributeError\u001b[0m                            Traceback (most recent call last)",
      "\u001b[1;32m~\\AppData\\Local\\Temp\\ipykernel_16744\\3747817901.py\u001b[0m in \u001b[0;36m?\u001b[1;34m()\u001b[0m\n\u001b[0;32m      1\u001b[0m \u001b[1;31m# Plotting the forecast and actual values\u001b[0m\u001b[1;33m\u001b[0m\u001b[1;33m\u001b[0m\u001b[0m\n\u001b[0;32m      2\u001b[0m \u001b[1;33m\u001b[0m\u001b[0m\n\u001b[1;32m----> 3\u001b[1;33m \u001b[0my0\u001b[0m\u001b[1;33m=\u001b[0m\u001b[0mtrain_set\u001b[0m\u001b[1;33m[\u001b[0m\u001b[1;33m[\u001b[0m\u001b[0my\u001b[0m\u001b[1;33m]\u001b[0m\u001b[1;33m]\u001b[0m\u001b[1;33m.\u001b[0m\u001b[0mappend\u001b[0m\u001b[1;33m(\u001b[0m\u001b[0mtest_set\u001b[0m\u001b[1;33m[\u001b[0m\u001b[1;33m[\u001b[0m\u001b[0my\u001b[0m\u001b[1;33m]\u001b[0m\u001b[1;33m]\u001b[0m\u001b[1;33m)\u001b[0m\u001b[1;33m.\u001b[0m\u001b[0mvalues\u001b[0m\u001b[1;33m\u001b[0m\u001b[1;33m\u001b[0m\u001b[0m\n\u001b[0m\u001b[0;32m      4\u001b[0m \u001b[0mx\u001b[0m\u001b[1;33m=\u001b[0m\u001b[0mdate\u001b[0m\u001b[1;33m\u001b[0m\u001b[1;33m\u001b[0m\u001b[0m\n\u001b[0;32m      5\u001b[0m \u001b[0my1\u001b[0m\u001b[1;33m=\u001b[0m\u001b[0mp\u001b[0m\u001b[1;33m[\u001b[0m\u001b[0mp\u001b[0m\u001b[1;33m.\u001b[0m\u001b[0mcolumns\u001b[0m\u001b[1;33m[\u001b[0m\u001b[1;36m1\u001b[0m\u001b[1;33m]\u001b[0m\u001b[1;33m]\u001b[0m\u001b[1;33m\u001b[0m\u001b[1;33m\u001b[0m\u001b[0m\n\u001b[0;32m      6\u001b[0m \u001b[0mx1\u001b[0m\u001b[1;33m=\u001b[0m\u001b[0mdate\u001b[0m\u001b[1;33m[\u001b[0m\u001b[1;36m110\u001b[0m\u001b[1;33m:\u001b[0m\u001b[1;33m]\u001b[0m\u001b[1;33m\u001b[0m\u001b[1;33m\u001b[0m\u001b[0m\n",
      "\u001b[1;32m~\\Desktop\\CV_Project\\Churn_Prediction_Dep\\churn_prediction\\lib\\site-packages\\pandas\\core\\generic.py\u001b[0m in \u001b[0;36m?\u001b[1;34m(self, name)\u001b[0m\n\u001b[0;32m   6200\u001b[0m             \u001b[1;32mand\u001b[0m \u001b[0mname\u001b[0m \u001b[1;32mnot\u001b[0m \u001b[1;32min\u001b[0m \u001b[0mself\u001b[0m\u001b[1;33m.\u001b[0m\u001b[0m_accessors\u001b[0m\u001b[1;33m\u001b[0m\u001b[1;33m\u001b[0m\u001b[0m\n\u001b[0;32m   6201\u001b[0m             \u001b[1;32mand\u001b[0m \u001b[0mself\u001b[0m\u001b[1;33m.\u001b[0m\u001b[0m_info_axis\u001b[0m\u001b[1;33m.\u001b[0m\u001b[0m_can_hold_identifiers_and_holds_name\u001b[0m\u001b[1;33m(\u001b[0m\u001b[0mname\u001b[0m\u001b[1;33m)\u001b[0m\u001b[1;33m\u001b[0m\u001b[1;33m\u001b[0m\u001b[0m\n\u001b[0;32m   6202\u001b[0m         ):\n\u001b[0;32m   6203\u001b[0m             \u001b[1;32mreturn\u001b[0m \u001b[0mself\u001b[0m\u001b[1;33m[\u001b[0m\u001b[0mname\u001b[0m\u001b[1;33m]\u001b[0m\u001b[1;33m\u001b[0m\u001b[1;33m\u001b[0m\u001b[0m\n\u001b[1;32m-> 6204\u001b[1;33m         \u001b[1;32mreturn\u001b[0m \u001b[0mobject\u001b[0m\u001b[1;33m.\u001b[0m\u001b[0m__getattribute__\u001b[0m\u001b[1;33m(\u001b[0m\u001b[0mself\u001b[0m\u001b[1;33m,\u001b[0m \u001b[0mname\u001b[0m\u001b[1;33m)\u001b[0m\u001b[1;33m\u001b[0m\u001b[1;33m\u001b[0m\u001b[0m\n\u001b[0m",
      "\u001b[1;31mAttributeError\u001b[0m: 'DataFrame' object has no attribute 'append'"
     ]
    }
   ],
   "source": [
    "# Plotting the forecast and actual values\n",
    "\n",
    "y0=train_set[[y]].append(test_set[[y]]).values\n",
    "x=date\n",
    "y1=p[p.columns[1]]\n",
    "x1=date[110:]\n",
    "fig,ax=plt.subplots(nrows=2,ncols=1,figsize=(15,10))\n",
    "ax[0].plot(x,y0,'-',color='blue' ,linewidth=0.9)\n",
    "ax[0].plot(x1,y1,'-',color='red' ,linewidth=0.9)\n",
    "ax[0].set_title(\"Actual Timeseries and Predicted Timeseries\",fontsize=25)\n",
    "ax[0].xaxis_date()     # interpret the x-axis values as dates\n",
    "ax[0].tick_params(labelsize=15)\n",
    "ax[0].legend(['Actual','Predicted'],fontsize=13)\n",
    "\n",
    "ax[1].plot(x1,p[p.columns[0]],color='blue')\n",
    "ax[1].plot(x1,p[p.columns[1]],color='red')\n",
    "ax[1].set_title(\"Actual Timeseries and Forecasted Timeseries\",fontsize=25)\n",
    "ax[1].xaxis_date()     # interpret the x-axis values as dates\n",
    "ax[1].tick_params(labelsize=15)\n",
    "ax[1].legend(['Actual','Forecasted'],fontsize=13)\n",
    "#fig.autofmt_xdate() # make space for and rotate the x-axis tick labels\n",
    "fig.tight_layout()\n",
    "plt.show()"
   ]
  },
  {
   "cell_type": "markdown",
   "id": "3edf4c84",
   "metadata": {},
   "source": [
    "### Error Metrics for Test Set\n",
    "----\n",
    "- Calculating MAPE, WAPE and TAPE\n",
    "- Calculating mean value and RMSE."
   ]
  },
  {
   "cell_type": "code",
   "execution_count": null,
   "id": "6265d440",
   "metadata": {},
   "outputs": [],
   "source": [
    "print(\"For SKU: {} MAPE is : {}\".format(y,MAPE(test_set[[y]].values.flatten(),df_forecast.values.flatten())))\n",
    "print(\"For SKU: {} WAPE is : {}\".format(item,WAPE(test_set[[y]].values.flatten(),df_forecast.values.flatten())*100))\n",
    "print(\"For SKU: {} TAPE is : {}\".format(item,TAPE(test_set[[y]].values.flatten(),df_forecast.values.flatten())*100))\n"
   ]
  },
  {
   "cell_type": "code",
   "execution_count": null,
   "id": "3ae2eda5",
   "metadata": {},
   "outputs": [],
   "source": [
    "rmse_item1=math.sqrt(mean_squared_error(test_set[[y]].values.flatten(),df_forecast.values.flatten()))\n",
    "print('Mean Volume Sales for SKU No. {} is : {}.\\nRoot Mean Squared Error is :{}'.format(y,round(np.mean(train_set[[y]].values.flatten()),2),round(rmse_item1,2)))\n"
   ]
  },
  {
   "cell_type": "markdown",
   "id": "e062717f",
   "metadata": {},
   "source": [
    "--------"
   ]
  },
  {
   "cell_type": "code",
   "execution_count": null,
   "id": "7d2ed145",
   "metadata": {},
   "outputs": [],
   "source": []
  },
  {
   "cell_type": "code",
   "execution_count": null,
   "id": "e018e959",
   "metadata": {},
   "outputs": [],
   "source": []
  },
  {
   "cell_type": "code",
   "execution_count": null,
   "id": "403d3610",
   "metadata": {},
   "outputs": [],
   "source": []
  },
  {
   "cell_type": "code",
   "execution_count": null,
   "id": "8850d115",
   "metadata": {},
   "outputs": [],
   "source": []
  }
 ],
 "metadata": {
  "kernelspec": {
   "display_name": "churn_prediction",
   "language": "python",
   "name": "churn_prediction"
  },
  "language_info": {
   "codemirror_mode": {
    "name": "ipython",
    "version": 3
   },
   "file_extension": ".py",
   "mimetype": "text/x-python",
   "name": "python",
   "nbconvert_exporter": "python",
   "pygments_lexer": "ipython3",
   "version": "3.10.6"
  }
 },
 "nbformat": 4,
 "nbformat_minor": 5
}
